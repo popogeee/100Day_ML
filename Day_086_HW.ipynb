{
  "nbformat": 4,
  "nbformat_minor": 0,
  "metadata": {
    "colab": {
      "name": "cifar10_para_setup.ipynb",
      "provenance": [],
      "collapsed_sections": [],
      "authorship_tag": "ABX9TyPKksG9B/cwXhw3ZkKhf5zn",
      "include_colab_link": true
    },
    "kernelspec": {
      "name": "python3",
      "display_name": "Python 3"
    },
    "accelerator": "GPU"
  },
  "cells": [
    {
      "cell_type": "markdown",
      "metadata": {
        "id": "view-in-github",
        "colab_type": "text"
      },
      "source": [
        "<a href=\"https://colab.research.google.com/github/popogeee/100Day_ML/blob/master/Day_086_HW.ipynb\" target=\"_parent\"><img src=\"https://colab.research.google.com/assets/colab-badge.svg\" alt=\"Open In Colab\"/></a>"
      ]
    },
    {
      "cell_type": "code",
      "metadata": {
        "id": "yqsXjUH_aNXO",
        "colab_type": "code",
        "colab": {
          "base_uri": "https://localhost:8080/",
          "height": 369
        },
        "outputId": "ac5d104e-0530-46ae-8ad7-38121514da1c"
      },
      "source": [
        "!nvidia-smi"
      ],
      "execution_count": 1,
      "outputs": [
        {
          "output_type": "stream",
          "text": [
            "Thu Jul 16 15:27:44 2020       \n",
            "+-----------------------------------------------------------------------------+\n",
            "| NVIDIA-SMI 450.51.05    Driver Version: 418.67       CUDA Version: 10.1     |\n",
            "|-------------------------------+----------------------+----------------------+\n",
            "| GPU  Name        Persistence-M| Bus-Id        Disp.A | Volatile Uncorr. ECC |\n",
            "| Fan  Temp  Perf  Pwr:Usage/Cap|         Memory-Usage | GPU-Util  Compute M. |\n",
            "|                               |                      |               MIG M. |\n",
            "|===============================+======================+======================|\n",
            "|   0  Tesla K80           Off  | 00000000:00:04.0 Off |                    0 |\n",
            "| N/A   68C    P8    33W / 149W |      0MiB / 11441MiB |      0%      Default |\n",
            "|                               |                      |                 ERR! |\n",
            "+-------------------------------+----------------------+----------------------+\n",
            "                                                                               \n",
            "+-----------------------------------------------------------------------------+\n",
            "| Processes:                                                                  |\n",
            "|  GPU   GI   CI        PID   Type   Process name                  GPU Memory |\n",
            "|        ID   ID                                                   Usage      |\n",
            "|=============================================================================|\n",
            "|  No running processes found                                                 |\n",
            "+-----------------------------------------------------------------------------+\n"
          ],
          "name": "stdout"
        }
      ]
    },
    {
      "cell_type": "code",
      "metadata": {
        "id": "MA6URoeraQS0",
        "colab_type": "code",
        "colab": {
          "base_uri": "https://localhost:8080/",
          "height": 34
        },
        "outputId": "2c876dfa-3124-432e-baae-4fb7a734e9c2"
      },
      "source": [
        "from keras import datasets\n",
        "import keras\n",
        "import numpy as np\n",
        "import pandas as pd\n",
        "import matplotlib.pyplot as plt\n",
        "from keras.models import Sequential\n",
        "from keras.layers import Dense, Dropout, Flatten, Conv2D, MaxPooling2D, Activation"
      ],
      "execution_count": 2,
      "outputs": [
        {
          "output_type": "stream",
          "text": [
            "Using TensorFlow backend.\n"
          ],
          "name": "stderr"
        }
      ]
    },
    {
      "cell_type": "code",
      "metadata": {
        "id": "T_4OEZTfanip",
        "colab_type": "code",
        "colab": {}
      },
      "source": [
        "def build_model(X_train):\n",
        "    model = Sequential()\n",
        "    model.add(Conv2D(256,kernel_size=(3,3), activation=\"relu\", padding=\"same\", input_shape=X_train.shape[1:]))\n",
        "    model.add(MaxPooling2D(2,2))\n",
        "    model.add(Conv2D(128,kernel_size=(3,3), activation=\"relu\", padding=\"same\"))\n",
        "    model.add(MaxPooling2D(2,2))\n",
        "    model.add(Conv2D(64,kernel_size=(3,3), activation=\"relu\", padding=\"same\"))\n",
        "    model.add(MaxPooling2D(2,2))\n",
        "    model.add(Flatten())\n",
        "    model.add(Dropout(0.5))\n",
        "    model.add(Dense(256, activation=\"relu\"))\n",
        "    model.add(Dropout(0.25))\n",
        "    model.add(Dense(256, activation=\"relu\"))\n",
        "    model.add(Dense(10, activation=\"softmax\"))\n",
        "    #model.summary()\n",
        "    \n",
        "    return model"
      ],
      "execution_count": 3,
      "outputs": []
    },
    {
      "cell_type": "code",
      "metadata": {
        "id": "LExVT_lhcc8c",
        "colab_type": "code",
        "colab": {}
      },
      "source": [
        "def plot_loss_acc():\n",
        "    test_loss, test_acc = model.evaluate(X_test, y_test)\n",
        "    val_loss = history.history[\"val_loss\"]\n",
        "    loss = history.history[\"loss\"]\n",
        "    plt.plot(val_loss, label=\"val_loss\")\n",
        "    plt.plot(loss, label=\"loss\")\n",
        "    plt.hlines(y=test_loss, xmin=0, xmax=len(val_loss), colors='r', linestyles='--')\n",
        "    plt.legend()\n",
        "    plt.show()\n",
        "    val_accuracy = history.history[\"val_accuracy\"]\n",
        "    accuracy = history.history[\"accuracy\"]\n",
        "    plt.plot(val_accuracy, label=\"val_accuracy\")\n",
        "    plt.plot(accuracy, label=\"accuracy\")\n",
        "    plt.hlines(y=test_acc, xmin=0, xmax=len(val_accuracy), colors='r', linestyles='--')\n",
        "    plt.legend()\n",
        "    plt.show()"
      ],
      "execution_count": 4,
      "outputs": []
    },
    {
      "cell_type": "code",
      "metadata": {
        "id": "IQ4N4jKFax1C",
        "colab_type": "code",
        "colab": {}
      },
      "source": [
        "#取得Keras Dataset\n",
        "(X_train, y_train), (X_test, y_test) =datasets.cifar10.load_data()\n",
        "#將像素降為0-1範圍\n",
        "X_train = (X_train/255).astype(\"float32\")\n",
        "X_test = (X_test/255).astype(\"float32\")"
      ],
      "execution_count": 5,
      "outputs": []
    },
    {
      "cell_type": "code",
      "metadata": {
        "id": "uBeb0Szla57k",
        "colab_type": "code",
        "colab": {
          "base_uri": "https://localhost:8080/",
          "height": 967
        },
        "outputId": "25876a28-caaf-47de-d65e-1edecbdd0f2d"
      },
      "source": [
        "## 超參數設定\n",
        "#LR = [1e-1, 1e-2, 1e-3, 1e-4, 1e-5]\n",
        "# nesterov = [False, True]\n",
        "# MOMENTUM = [0.75, 1, 1.25]\n",
        "#optimizers = [\"adagrad\", \"sgd\", \"rmsprop\", \"adam\"]\n",
        "#from itertools import product\n",
        "#drop = [0.125, 0.25, 0.5]\n",
        "from keras import regularizers\n",
        "from keras.layers import BatchNormalization\n",
        "from keras.callbacks import ModelCheckpoint, EarlyStopping\n",
        "val_accuracy_score = []\n",
        "accuracy_score = []\n",
        "# 以不同learning rate(LR)進行實驗\n",
        "#for i,j in product(nesterov, MOMENTUM):\n",
        "#for optimizer in optimizers:\n",
        "#L2_exp = [0.01, 0.001, 0.0001]\n",
        "# batch = [64, 256, 512]\n",
        "# for k in batch:\n",
        "    #print(i, j)\n",
        "    #print(optimizer) \n",
        "model = Sequential()\n",
        "model.add(Conv2D(64,kernel_size=(3,3), padding=\"same\", kernel_regularizer=regularizers.l2(0.001), \n",
        "                    input_shape=X_train.shape[1:]))\n",
        "model.add(BatchNormalization())\n",
        "model.add(Activation(\"relu\"))\n",
        "model.add(MaxPooling2D(2,2))\n",
        "model.add(Dropout(0.5))\n",
        "# model.add(Conv2D(128,kernel_size=(3,3), padding=\"same\", kernel_regularizer=regularizers.l2(0.001)))\n",
        "# model.add(BatchNormalization())  #BatchNormalization要放在Activation之前\n",
        "# model.add(Activation(\"relu\"))\n",
        "# model.add(MaxPooling2D(2,2))\n",
        "# model.add(Dropout(0.3))\n",
        "model.add(Flatten())\n",
        "model.add(Dense(64))\n",
        "model.add(Dropout(0.2))\n",
        "model.add(BatchNormalization())\n",
        "model.add(Dense(10, activation=\"softmax\"))  \n",
        "#model = build_model(X_train)\n",
        "#optimizer = keras.optimizers.SGD(lr=0.01, nesterov=i, momentum=j)\n",
        "model.compile(optimizer=\"adam\", loss=\"sparse_categorical_crossentropy\", metrics=[\"accuracy\"])\n",
        "callbacks_list = [ModelCheckpoint(filepath='test.hdf5', save_best_only=True), EarlyStopping(monitor=\"val_loss\", patience=8)]\n",
        "history = model.fit(X_train, y_train, epochs=50, verbose=1, batch_size=512, validation_split=0.3, callbacks=callbacks_list)\n",
        "test_loss, test_acc = model.evaluate(X_test, y_test)\n",
        "print(\"test_loss=\", test_loss)\n",
        "print(\"test_acc=\", test_acc)\n",
        "# val_accuracy = history.history[\"val_accuracy\"]\n",
        "# accuracy = history.history[\"accuracy\"]\n",
        "# val_accuracy_score.append(val_accuracy)\n",
        "# accuracy_score.append(accuracy)\n",
        "\n"
      ],
      "execution_count": 6,
      "outputs": [
        {
          "output_type": "stream",
          "text": [
            "Train on 35000 samples, validate on 15000 samples\n",
            "Epoch 1/50\n",
            "35000/35000 [==============================] - 9s 258us/step - loss: 1.7450 - accuracy: 0.4023 - val_loss: 2.3219 - val_accuracy: 0.0993\n",
            "Epoch 2/50\n",
            "35000/35000 [==============================] - 8s 217us/step - loss: 1.3625 - accuracy: 0.5245 - val_loss: 2.2524 - val_accuracy: 0.1193\n",
            "Epoch 3/50\n",
            "35000/35000 [==============================] - 8s 216us/step - loss: 1.2258 - accuracy: 0.5734 - val_loss: 2.1645 - val_accuracy: 0.1363\n",
            "Epoch 4/50\n",
            "35000/35000 [==============================] - 8s 216us/step - loss: 1.1463 - accuracy: 0.6030 - val_loss: 2.1019 - val_accuracy: 0.2284\n",
            "Epoch 5/50\n",
            "35000/35000 [==============================] - 8s 216us/step - loss: 1.0910 - accuracy: 0.6251 - val_loss: 1.8251 - val_accuracy: 0.3489\n",
            "Epoch 6/50\n",
            "35000/35000 [==============================] - 8s 216us/step - loss: 1.0545 - accuracy: 0.6353 - val_loss: 1.5899 - val_accuracy: 0.4916\n",
            "Epoch 7/50\n",
            "35000/35000 [==============================] - 8s 216us/step - loss: 1.0137 - accuracy: 0.6485 - val_loss: 1.4600 - val_accuracy: 0.5021\n",
            "Epoch 8/50\n",
            "35000/35000 [==============================] - 8s 216us/step - loss: 0.9862 - accuracy: 0.6634 - val_loss: 1.2764 - val_accuracy: 0.5687\n",
            "Epoch 9/50\n",
            "35000/35000 [==============================] - 8s 216us/step - loss: 0.9637 - accuracy: 0.6679 - val_loss: 1.1305 - val_accuracy: 0.6213\n",
            "Epoch 10/50\n",
            "35000/35000 [==============================] - 8s 216us/step - loss: 0.9548 - accuracy: 0.6713 - val_loss: 1.1670 - val_accuracy: 0.5993\n",
            "Epoch 11/50\n",
            "35000/35000 [==============================] - 8s 216us/step - loss: 0.9299 - accuracy: 0.6802 - val_loss: 1.1152 - val_accuracy: 0.6103\n",
            "Epoch 12/50\n",
            "35000/35000 [==============================] - 8s 216us/step - loss: 0.9091 - accuracy: 0.6886 - val_loss: 1.1919 - val_accuracy: 0.5887\n",
            "Epoch 13/50\n",
            "35000/35000 [==============================] - 8s 216us/step - loss: 0.9097 - accuracy: 0.6874 - val_loss: 1.5317 - val_accuracy: 0.5211\n",
            "Epoch 14/50\n",
            "35000/35000 [==============================] - 8s 216us/step - loss: 0.8928 - accuracy: 0.6921 - val_loss: 1.4342 - val_accuracy: 0.5620\n",
            "Epoch 15/50\n",
            "35000/35000 [==============================] - 8s 216us/step - loss: 0.8783 - accuracy: 0.6963 - val_loss: 1.1574 - val_accuracy: 0.6141\n",
            "Epoch 16/50\n",
            "35000/35000 [==============================] - 8s 217us/step - loss: 0.8698 - accuracy: 0.7006 - val_loss: 1.2629 - val_accuracy: 0.5867\n",
            "Epoch 17/50\n",
            "35000/35000 [==============================] - 8s 218us/step - loss: 0.8605 - accuracy: 0.7031 - val_loss: 1.0663 - val_accuracy: 0.6357\n",
            "Epoch 18/50\n",
            "35000/35000 [==============================] - 8s 216us/step - loss: 0.8499 - accuracy: 0.7081 - val_loss: 1.1142 - val_accuracy: 0.6267\n",
            "Epoch 19/50\n",
            "35000/35000 [==============================] - 8s 216us/step - loss: 0.8452 - accuracy: 0.7081 - val_loss: 1.3087 - val_accuracy: 0.5702\n",
            "Epoch 20/50\n",
            "35000/35000 [==============================] - 8s 215us/step - loss: 0.8389 - accuracy: 0.7098 - val_loss: 1.0905 - val_accuracy: 0.6417\n",
            "Epoch 21/50\n",
            "35000/35000 [==============================] - 8s 215us/step - loss: 0.8272 - accuracy: 0.7149 - val_loss: 1.1869 - val_accuracy: 0.6082\n",
            "Epoch 22/50\n",
            "35000/35000 [==============================] - 8s 216us/step - loss: 0.8157 - accuracy: 0.7181 - val_loss: 1.2656 - val_accuracy: 0.5780\n",
            "Epoch 23/50\n",
            "35000/35000 [==============================] - 8s 216us/step - loss: 0.8081 - accuracy: 0.7221 - val_loss: 1.1992 - val_accuracy: 0.6139\n",
            "Epoch 24/50\n",
            "35000/35000 [==============================] - 8s 216us/step - loss: 0.8069 - accuracy: 0.7223 - val_loss: 1.3128 - val_accuracy: 0.5802\n",
            "Epoch 25/50\n",
            "35000/35000 [==============================] - 8s 216us/step - loss: 0.8028 - accuracy: 0.7222 - val_loss: 1.1689 - val_accuracy: 0.6151\n",
            "10000/10000 [==============================] - 1s 147us/step\n",
            "test_loss= 1.1719141695976258\n",
            "test_acc= 0.6129000186920166\n"
          ],
          "name": "stdout"
        }
      ]
    },
    {
      "cell_type": "code",
      "metadata": {
        "id": "SmqQaibNNpnu",
        "colab_type": "code",
        "colab": {
          "base_uri": "https://localhost:8080/",
          "height": 530
        },
        "outputId": "ac366335-e99a-4516-9c89-08783d2f7b05"
      },
      "source": [
        "plot_loss_acc() "
      ],
      "execution_count": 7,
      "outputs": [
        {
          "output_type": "stream",
          "text": [
            "10000/10000 [==============================] - 1s 144us/step\n"
          ],
          "name": "stdout"
        },
        {
          "output_type": "display_data",
          "data": {
            "image/png": "[encoded data removed]",
            "text/plain": [
              "<Figure size 432x288 with 1 Axes>"
            ]
          },
          "metadata": {
            "tags": [],
            "needs_background": "light"
          }
        },
        {
          "output_type": "display_data",
          "data": {
            "image/png": "[encoded data removed]",
            "text/plain": [
              "<Figure size 432x288 with 1 Axes>"
            ]
          },
          "metadata": {
            "tags": [],
            "needs_background": "light"
          }
        }
      ]
    },
    {
      "cell_type": "code",
      "metadata": {
        "id": "3myXG9tMesIx",
        "colab_type": "code",
        "colab": {}
      },
      "source": [
        "#labels = [(False, 0.75), (False, 1.0), (False, 1.25), (True, 0.75), (True, 1.0), (True, 1.25)]\n",
        "#labels = [\"adagrad\", \"sgd\", \"rmsprop\", \"adam\"]\n",
        "#L2_exp = [0.01, 0.001, 0.0001]\n",
        "#drop = [0.125, 0.25, 0.5]\n",
        "# batch = [64, 256, 512]\n",
        "# plt.figure(figsize=(15,10))\n",
        "# for i in range(3):\n",
        "#     plt.plot(val_accuracy_score[i], \"-\", label=batch[i])\n",
        "#     plt.plot(accuracy_score[i], \"--\", label=batch[i])\n",
        "# plt.legend()\n",
        "# plt.title(\"Accuracy\")\n",
        "# plt.show()"
      ],
      "execution_count": 8,
      "outputs": []
    },
    {
      "cell_type": "code",
      "metadata": {
        "id": "Rb9gqggHtDvy",
        "colab_type": "code",
        "colab": {}
      },
      "source": [
        "# momentum >= 1, 會造成整體accuracy, val_accuracy在震盪後都大幅降低\n",
        "# nesterov 正負不影響結果"
      ],
      "execution_count": 9,
      "outputs": []
    },
    {
      "cell_type": "code",
      "metadata": {
        "id": "kMFO_blV78pA",
        "colab_type": "code",
        "colab": {}
      },
      "source": [
        "#Adam的表現在預設的參數之下表現最好"
      ],
      "execution_count": 10,
      "outputs": []
    },
    {
      "cell_type": "code",
      "metadata": {
        "id": "RICiJj6qBhtO",
        "colab_type": "code",
        "colab": {}
      },
      "source": [
        "#L2值越大，會更不容易overfitting，約L2 = 0.001較好"
      ],
      "execution_count": 11,
      "outputs": []
    },
    {
      "cell_type": "code",
      "metadata": {
        "id": "qdQgM5uXOpB2",
        "colab_type": "code",
        "colab": {}
      },
      "source": [
        "#Dropout rate 在0.125時，有點overfiting，在0.25的時候train set 與val set的accuracy看起來很不錯，在0.5的時候有underfitting"
      ],
      "execution_count": 12,
      "outputs": []
    },
    {
      "cell_type": "code",
      "metadata": {
        "id": "8MgywFP9jGFE",
        "colab_type": "code",
        "colab": {}
      },
      "source": [
        "#batch size越小，收斂速度可能會越快64>256>512，但最後accuracy差異不大"
      ],
      "execution_count": 13,
      "outputs": []
    }
  ]
}