{
  "nbformat": 4,
  "nbformat_minor": 0,
  "metadata": {
    "colab": {
      "name": "cifar10_para_setup.ipynb",
      "provenance": [],
      "collapsed_sections": [],
      "authorship_tag": "ABX9TyMt+mkPKh0cp2sCAUbX/c2m",
      "include_colab_link": true
    },
    "kernelspec": {
      "name": "python3",
      "display_name": "Python 3"
    },
    "accelerator": "GPU"
  },
  "cells": [
    {
      "cell_type": "markdown",
      "metadata": {
        "id": "view-in-github",
        "colab_type": "text"
      },
      "source": [
        "<a href=\"https://colab.research.google.com/github/popogeee/100Day_ML/blob/master/Day_088_HW.ipynb\" target=\"_parent\"><img src=\"https://colab.research.google.com/assets/colab-badge.svg\" alt=\"Open In Colab\"/></a>"
      ]
    },
    {
      "cell_type": "code",
      "metadata": {
        "id": "yqsXjUH_aNXO",
        "colab_type": "code",
        "colab": {
          "base_uri": "https://localhost:8080/",
          "height": 369
        },
        "outputId": "a8a91d5d-4edb-4278-96d0-a28273a2bcbd"
      },
      "source": [
        "!nvidia-smi"
      ],
      "execution_count": 9,
      "outputs": [
        {
          "output_type": "stream",
          "text": [
            "Fri Jul 17 04:14:17 2020       \n",
            "+-----------------------------------------------------------------------------+\n",
            "| NVIDIA-SMI 450.51.05    Driver Version: 418.67       CUDA Version: 10.1     |\n",
            "|-------------------------------+----------------------+----------------------+\n",
            "| GPU  Name        Persistence-M| Bus-Id        Disp.A | Volatile Uncorr. ECC |\n",
            "| Fan  Temp  Perf  Pwr:Usage/Cap|         Memory-Usage | GPU-Util  Compute M. |\n",
            "|                               |                      |               MIG M. |\n",
            "|===============================+======================+======================|\n",
            "|   0  Tesla P100-PCIE...  Off  | 00000000:00:04.0 Off |                    0 |\n",
            "| N/A   41C    P0    32W / 250W |   1925MiB / 16280MiB |      0%      Default |\n",
            "|                               |                      |                 ERR! |\n",
            "+-------------------------------+----------------------+----------------------+\n",
            "                                                                               \n",
            "+-----------------------------------------------------------------------------+\n",
            "| Processes:                                                                  |\n",
            "|  GPU   GI   CI        PID   Type   Process name                  GPU Memory |\n",
            "|        ID   ID                                                   Usage      |\n",
            "|=============================================================================|\n",
            "|  No running processes found                                                 |\n",
            "+-----------------------------------------------------------------------------+\n"
          ],
          "name": "stdout"
        }
      ]
    },
    {
      "cell_type": "code",
      "metadata": {
        "id": "MA6URoeraQS0",
        "colab_type": "code",
        "colab": {}
      },
      "source": [
        "from keras import datasets\n",
        "import keras\n",
        "import numpy as np\n",
        "import pandas as pd\n",
        "import matplotlib.pyplot as plt\n",
        "from keras.models import Sequential\n",
        "from keras.layers import Dense, Dropout, Flatten, Conv2D, MaxPooling2D, Activation"
      ],
      "execution_count": 10,
      "outputs": []
    },
    {
      "cell_type": "code",
      "metadata": {
        "id": "T_4OEZTfanip",
        "colab_type": "code",
        "colab": {}
      },
      "source": [
        "def build_model(X_train):\n",
        "    model = Sequential()\n",
        "    model.add(Conv2D(256,kernel_size=(3,3), activation=\"relu\", padding=\"same\", input_shape=X_train.shape[1:]))\n",
        "    model.add(MaxPooling2D(2,2))\n",
        "    model.add(Conv2D(128,kernel_size=(3,3), activation=\"relu\", padding=\"same\"))\n",
        "    model.add(MaxPooling2D(2,2))\n",
        "    model.add(Conv2D(64,kernel_size=(3,3), activation=\"relu\", padding=\"same\"))\n",
        "    model.add(MaxPooling2D(2,2))\n",
        "    model.add(Flatten())\n",
        "    model.add(Dropout(0.5))\n",
        "    model.add(Dense(256, activation=\"relu\"))\n",
        "    model.add(Dropout(0.25))\n",
        "    model.add(Dense(256, activation=\"relu\"))\n",
        "    model.add(Dense(10, activation=\"softmax\"))\n",
        "    #model.summary()\n",
        "    \n",
        "    return model"
      ],
      "execution_count": 11,
      "outputs": []
    },
    {
      "cell_type": "code",
      "metadata": {
        "id": "LExVT_lhcc8c",
        "colab_type": "code",
        "colab": {}
      },
      "source": [
        "def plot_loss_acc():\n",
        "    test_loss, test_acc = model.evaluate(X_test, y_test)\n",
        "    val_loss = history.history[\"val_loss\"]\n",
        "    loss = history.history[\"loss\"]\n",
        "    plt.plot(val_loss, label=\"val_loss\")\n",
        "    plt.plot(loss, label=\"loss\")\n",
        "    plt.hlines(y=test_loss, xmin=0, xmax=len(val_loss), colors='r', linestyles='--')\n",
        "    plt.legend()\n",
        "    plt.show()\n",
        "    val_accuracy = history.history[\"val_accuracy\"]\n",
        "    accuracy = history.history[\"accuracy\"]\n",
        "    plt.plot(val_accuracy, label=\"val_accuracy\")\n",
        "    plt.plot(accuracy, label=\"accuracy\")\n",
        "    plt.hlines(y=test_acc, xmin=0, xmax=len(val_accuracy), colors='r', linestyles='--')\n",
        "    plt.legend()\n",
        "    plt.show()"
      ],
      "execution_count": 12,
      "outputs": []
    },
    {
      "cell_type": "code",
      "metadata": {
        "id": "IQ4N4jKFax1C",
        "colab_type": "code",
        "colab": {}
      },
      "source": [
        "#取得Keras Dataset\n",
        "(X_train, y_train), (X_test, y_test) =datasets.cifar10.load_data()\n",
        "#將像素降為0-1範圍\n",
        "X_train = (X_train/255).astype(\"float32\")\n",
        "X_test = (X_test/255).astype(\"float32\")\n",
        "from sklearn.preprocessing import OneHotEncoder\n",
        "encoder = OneHotEncoder(sparse=False)\n",
        "y_train = encoder.fit_transform(y_train)\n",
        "y_test = encoder.fit_transform(y_test)"
      ],
      "execution_count": 13,
      "outputs": []
    },
    {
      "cell_type": "code",
      "metadata": {
        "id": "uBeb0Szla57k",
        "colab_type": "code",
        "colab": {
          "base_uri": "https://localhost:8080/",
          "height": 1000
        },
        "outputId": "9f40b4f7-bc20-40fc-ea0e-ac8553ec4507"
      },
      "source": [
        "## 超參數設定\n",
        "#LR = [1e-1, 1e-2, 1e-3, 1e-4, 1e-5]\n",
        "# nesterov = [False, True]\n",
        "# MOMENTUM = [0.75, 1, 1.25]\n",
        "#optimizers = [\"adagrad\", \"sgd\", \"rmsprop\", \"adam\"]\n",
        "#from itertools import product\n",
        "#drop = [0.125, 0.25, 0.5]\n",
        "from keras import regularizers\n",
        "from keras.layers import BatchNormalization\n",
        "from keras.callbacks import ModelCheckpoint, EarlyStopping, ReduceLROnPlateau\n",
        "\n",
        "val_accuracy_score = []\n",
        "accuracy_score = []\n",
        "# 以不同learning rate(LR)進行實驗\n",
        "#for i,j in product(nesterov, MOMENTUM):\n",
        "#for optimizer in optimizers:\n",
        "#L2_exp = [0.01, 0.001, 0.0001]\n",
        "# batch = [64, 256, 512]\n",
        "# for k in batch:\n",
        "    #print(i, j)\n",
        "    #print(optimizer) \n",
        "model = Sequential()\n",
        "model.add(Conv2D(256,kernel_size=(3,3), padding=\"same\", kernel_regularizer=regularizers.l2(0.001), \n",
        "                    input_shape=X_train.shape[1:]))\n",
        "model.add(BatchNormalization())\n",
        "model.add(Activation(\"relu\"))\n",
        "model.add(MaxPooling2D(2,2))\n",
        "model.add(Dropout(0.5))\n",
        "model.add(Conv2D(128,kernel_size=(3,3), padding=\"same\", kernel_regularizer=regularizers.l2(0.001)))\n",
        "model.add(BatchNormalization())  #BatchNormalization要放在Activation之前\n",
        "model.add(Activation(\"relu\"))\n",
        "model.add(MaxPooling2D(2,2))\n",
        "model.add(Dropout(0.3))\n",
        "model.add(Flatten())\n",
        "model.add(Dense(64))\n",
        "model.add(Dropout(0.3))\n",
        "model.add(BatchNormalization())\n",
        "model.add(Dense(10, activation=\"softmax\"))  \n",
        "#model = build_model(X_train)\n",
        "#optimizer = keras.optimizers.SGD(lr=0.01, nesterov=i, momentum=j)\n",
        "#optimizer = keras.optimizers.Adam(lr=0.001)\n",
        "model.compile(optimizer=\"adam\", loss=\"categorical_crossentropy\", metrics=[\"accuracy\"])\n",
        "callbacks_list = [ModelCheckpoint(filepath='test.hdf5', save_best_only=True), EarlyStopping(monitor=\"val_loss\", patience=10)]\n",
        "#reduce_lr = [ReduceLROnPlateau(factor=0.5, min_lr=1e-12, monitor='val_loss', patience=5)] #lr=lr*factor\n",
        "history = model.fit(X_train, y_train, epochs=30, verbose=1, batch_size=256, validation_split=0.3, callbacks=callbacks_list)\n",
        "test_loss, test_acc = model.evaluate(X_test, y_test)\n",
        "print(\"test_loss=\", test_loss)\n",
        "print(\"test_acc=\", test_acc)\n",
        "# val_accuracy = history.history[\"val_accuracy\"]\n",
        "# accuracy = history.history[\"accuracy\"]\n",
        "# val_accuracy_score.append(val_accuracy)\n",
        "# accuracy_score.append(accuracy)\n",
        "\n"
      ],
      "execution_count": 14,
      "outputs": [
        {
          "output_type": "stream",
          "text": [
            "Train on 35000 samples, validate on 15000 samples\n",
            "Epoch 1/30\n",
            "35000/35000 [==============================] - 11s 325us/step - loss: 1.8438 - accuracy: 0.4154 - val_loss: 3.2544 - val_accuracy: 0.0979\n",
            "Epoch 2/30\n",
            "35000/35000 [==============================] - 10s 296us/step - loss: 1.3717 - accuracy: 0.5616 - val_loss: 3.1077 - val_accuracy: 0.1101\n",
            "Epoch 3/30\n",
            "35000/35000 [==============================] - 10s 296us/step - loss: 1.1940 - accuracy: 0.6227 - val_loss: 2.6058 - val_accuracy: 0.1964\n",
            "Epoch 4/30\n",
            "35000/35000 [==============================] - 10s 296us/step - loss: 1.1062 - accuracy: 0.6484 - val_loss: 1.7347 - val_accuracy: 0.4199\n",
            "Epoch 5/30\n",
            "35000/35000 [==============================] - 10s 296us/step - loss: 1.0459 - accuracy: 0.6703 - val_loss: 1.3206 - val_accuracy: 0.5662\n",
            "Epoch 6/30\n",
            "35000/35000 [==============================] - 10s 297us/step - loss: 1.0072 - accuracy: 0.6822 - val_loss: 1.1254 - val_accuracy: 0.6397\n",
            "Epoch 7/30\n",
            "35000/35000 [==============================] - 10s 297us/step - loss: 0.9733 - accuracy: 0.6957 - val_loss: 1.2916 - val_accuracy: 0.5829\n",
            "Epoch 8/30\n",
            "35000/35000 [==============================] - 10s 296us/step - loss: 0.9509 - accuracy: 0.7057 - val_loss: 1.3339 - val_accuracy: 0.5963\n",
            "Epoch 9/30\n",
            "35000/35000 [==============================] - 10s 296us/step - loss: 0.9277 - accuracy: 0.7152 - val_loss: 1.1514 - val_accuracy: 0.6374\n",
            "Epoch 10/30\n",
            "35000/35000 [==============================] - 10s 296us/step - loss: 0.9069 - accuracy: 0.7234 - val_loss: 1.0415 - val_accuracy: 0.6770\n",
            "Epoch 11/30\n",
            "35000/35000 [==============================] - 10s 297us/step - loss: 0.8826 - accuracy: 0.7308 - val_loss: 1.1039 - val_accuracy: 0.6435\n",
            "Epoch 12/30\n",
            "35000/35000 [==============================] - 10s 296us/step - loss: 0.8737 - accuracy: 0.7354 - val_loss: 1.0356 - val_accuracy: 0.6795\n",
            "Epoch 13/30\n",
            "35000/35000 [==============================] - 10s 295us/step - loss: 0.8564 - accuracy: 0.7439 - val_loss: 1.0786 - val_accuracy: 0.6708\n",
            "Epoch 14/30\n",
            "35000/35000 [==============================] - 10s 296us/step - loss: 0.8388 - accuracy: 0.7514 - val_loss: 1.0939 - val_accuracy: 0.6754\n",
            "Epoch 15/30\n",
            "35000/35000 [==============================] - 10s 298us/step - loss: 0.8280 - accuracy: 0.7563 - val_loss: 1.1688 - val_accuracy: 0.6315\n",
            "Epoch 16/30\n",
            "35000/35000 [==============================] - 10s 297us/step - loss: 0.8287 - accuracy: 0.7587 - val_loss: 1.1188 - val_accuracy: 0.6557\n",
            "Epoch 17/30\n",
            "35000/35000 [==============================] - 10s 295us/step - loss: 0.8129 - accuracy: 0.7656 - val_loss: 1.0140 - val_accuracy: 0.6901\n",
            "Epoch 18/30\n",
            "35000/35000 [==============================] - 10s 294us/step - loss: 0.7986 - accuracy: 0.7703 - val_loss: 1.1158 - val_accuracy: 0.6613\n",
            "Epoch 19/30\n",
            "35000/35000 [==============================] - 10s 294us/step - loss: 0.7948 - accuracy: 0.7724 - val_loss: 1.0691 - val_accuracy: 0.6885\n",
            "Epoch 20/30\n",
            "35000/35000 [==============================] - 10s 295us/step - loss: 0.7826 - accuracy: 0.7773 - val_loss: 1.3043 - val_accuracy: 0.6060\n",
            "Epoch 21/30\n",
            "35000/35000 [==============================] - 10s 296us/step - loss: 0.7781 - accuracy: 0.7800 - val_loss: 1.1863 - val_accuracy: 0.6421\n",
            "Epoch 22/30\n",
            "35000/35000 [==============================] - 10s 295us/step - loss: 0.7646 - accuracy: 0.7871 - val_loss: 1.1341 - val_accuracy: 0.6601\n",
            "Epoch 23/30\n",
            "35000/35000 [==============================] - 10s 296us/step - loss: 0.7588 - accuracy: 0.7896 - val_loss: 0.9834 - val_accuracy: 0.7212\n",
            "Epoch 24/30\n",
            "35000/35000 [==============================] - 10s 294us/step - loss: 0.7557 - accuracy: 0.7923 - val_loss: 1.0710 - val_accuracy: 0.6891\n",
            "Epoch 25/30\n",
            "35000/35000 [==============================] - 10s 294us/step - loss: 0.7461 - accuracy: 0.7947 - val_loss: 1.1271 - val_accuracy: 0.6617\n",
            "Epoch 26/30\n",
            "35000/35000 [==============================] - 10s 295us/step - loss: 0.7349 - accuracy: 0.8004 - val_loss: 1.0222 - val_accuracy: 0.7121\n",
            "Epoch 27/30\n",
            "35000/35000 [==============================] - 10s 294us/step - loss: 0.7367 - accuracy: 0.7984 - val_loss: 1.1294 - val_accuracy: 0.6791\n",
            "Epoch 28/30\n",
            "35000/35000 [==============================] - 10s 295us/step - loss: 0.7265 - accuracy: 0.8053 - val_loss: 1.0555 - val_accuracy: 0.6877\n",
            "Epoch 29/30\n",
            "35000/35000 [==============================] - 10s 295us/step - loss: 0.7194 - accuracy: 0.8089 - val_loss: 1.0217 - val_accuracy: 0.7123\n",
            "Epoch 30/30\n",
            "35000/35000 [==============================] - 10s 294us/step - loss: 0.7173 - accuracy: 0.8071 - val_loss: 1.1651 - val_accuracy: 0.6565\n",
            "10000/10000 [==============================] - 2s 150us/step\n",
            "test_loss= 1.1735006708145141\n",
            "test_acc= 0.656499981880188\n"
          ],
          "name": "stdout"
        }
      ]
    },
    {
      "cell_type": "code",
      "metadata": {
        "id": "SmqQaibNNpnu",
        "colab_type": "code",
        "colab": {
          "base_uri": "https://localhost:8080/",
          "height": 583
        },
        "outputId": "440e4f74-8bf3-4d5b-b041-5f29f1c94a38"
      },
      "source": [
        "from keras.models import load_model\n",
        "plot_loss_acc()\n",
        "model = load_model('test.hdf5')\n",
        "test_loss, test_acc = model.evaluate(X_test, y_test)\n",
        "print(\"test_loss=\", test_loss)\n",
        "print(\"test_acc=\", test_acc)"
      ],
      "execution_count": 15,
      "outputs": [
        {
          "output_type": "stream",
          "text": [
            "10000/10000 [==============================] - 1s 147us/step\n"
          ],
          "name": "stdout"
        },
        {
          "output_type": "display_data",
          "data": {
            "image/png": "[encoded data removed]",
            "text/plain": [
              "<Figure size 432x288 with 1 Axes>"
            ]
          },
          "metadata": {
            "tags": [],
            "needs_background": "light"
          }
        },
        {
          "output_type": "display_data",
          "data": {
            "image/png": "[encoded data removed]",
            "text/plain": [
              "<Figure size 432x288 with 1 Axes>"
            ]
          },
          "metadata": {
            "tags": [],
            "needs_background": "light"
          }
        },
        {
          "output_type": "stream",
          "text": [
            "10000/10000 [==============================] - 2s 155us/step\n",
            "test_loss= 0.9864820108413697\n",
            "test_acc= 0.7192000150680542\n"
          ],
          "name": "stdout"
        }
      ]
    },
    {
      "cell_type": "code",
      "metadata": {
        "id": "XHYnZAcDWpsS",
        "colab_type": "code",
        "colab": {
          "base_uri": "https://localhost:8080/",
          "height": 346
        },
        "outputId": "e9851f97-948d-4c28-e3f3-d53382c9ccb7"
      },
      "source": [
        "#請嘗試寫一個 callback 用來記錄各類別在訓練過程中，對驗證集的 True Positive 與 True Negative\n",
        "model = load_model('test.hdf5')\n",
        "test_loss, test_acc = model.evaluate(X_test, y_test)\n",
        "y_pred = model.predict(X_test)\n",
        "S = np.zeros((10000,10))\n",
        "for i in range(10000):\n",
        "    S[i][np.argmax(y_pred[i])] = 1\n",
        "\n",
        "from sklearn import metrics\n",
        "print(metrics.confusion_matrix(y_test, S))"
      ],
      "execution_count": 16,
      "outputs": [
        {
          "output_type": "stream",
          "text": [
            "10000/10000 [==============================] - 2s 153us/step\n"
          ],
          "name": "stdout"
        },
        {
          "output_type": "error",
          "ename": "ValueError",
          "evalue": "ignored",
          "traceback": [
            "\u001b[0;31m---------------------------------------------------------------------------\u001b[0m",
            "\u001b[0;31mValueError\u001b[0m                                Traceback (most recent call last)",
            "\u001b[0;32m<ipython-input-16-d1e1751afdf9>\u001b[0m in \u001b[0;36m<module>\u001b[0;34m()\u001b[0m\n\u001b[1;32m      8\u001b[0m \u001b[0;34m\u001b[0m\u001b[0m\n\u001b[1;32m      9\u001b[0m \u001b[0;32mfrom\u001b[0m \u001b[0msklearn\u001b[0m \u001b[0;32mimport\u001b[0m \u001b[0mmetrics\u001b[0m\u001b[0;34m\u001b[0m\u001b[0;34m\u001b[0m\u001b[0m\n\u001b[0;32m---> 10\u001b[0;31m \u001b[0mprint\u001b[0m\u001b[0;34m(\u001b[0m\u001b[0mmetrics\u001b[0m\u001b[0;34m.\u001b[0m\u001b[0mconfusion_matrix\u001b[0m\u001b[0;34m(\u001b[0m\u001b[0my_test\u001b[0m\u001b[0;34m,\u001b[0m \u001b[0mS\u001b[0m\u001b[0;34m)\u001b[0m\u001b[0;34m)\u001b[0m\u001b[0;34m\u001b[0m\u001b[0;34m\u001b[0m\u001b[0m\n\u001b[0m",
            "\u001b[0;32m/usr/local/lib/python3.6/dist-packages/sklearn/metrics/_classification.py\u001b[0m in \u001b[0;36mconfusion_matrix\u001b[0;34m(y_true, y_pred, labels, sample_weight, normalize)\u001b[0m\n\u001b[1;32m    268\u001b[0m     \u001b[0my_type\u001b[0m\u001b[0;34m,\u001b[0m \u001b[0my_true\u001b[0m\u001b[0;34m,\u001b[0m \u001b[0my_pred\u001b[0m \u001b[0;34m=\u001b[0m \u001b[0m_check_targets\u001b[0m\u001b[0;34m(\u001b[0m\u001b[0my_true\u001b[0m\u001b[0;34m,\u001b[0m \u001b[0my_pred\u001b[0m\u001b[0;34m)\u001b[0m\u001b[0;34m\u001b[0m\u001b[0;34m\u001b[0m\u001b[0m\n\u001b[1;32m    269\u001b[0m     \u001b[0;32mif\u001b[0m \u001b[0my_type\u001b[0m \u001b[0;32mnot\u001b[0m \u001b[0;32min\u001b[0m \u001b[0;34m(\u001b[0m\u001b[0;34m\"binary\"\u001b[0m\u001b[0;34m,\u001b[0m \u001b[0;34m\"multiclass\"\u001b[0m\u001b[0;34m)\u001b[0m\u001b[0;34m:\u001b[0m\u001b[0;34m\u001b[0m\u001b[0;34m\u001b[0m\u001b[0m\n\u001b[0;32m--> 270\u001b[0;31m         \u001b[0;32mraise\u001b[0m \u001b[0mValueError\u001b[0m\u001b[0;34m(\u001b[0m\u001b[0;34m\"%s is not supported\"\u001b[0m \u001b[0;34m%\u001b[0m \u001b[0my_type\u001b[0m\u001b[0;34m)\u001b[0m\u001b[0;34m\u001b[0m\u001b[0;34m\u001b[0m\u001b[0m\n\u001b[0m\u001b[1;32m    271\u001b[0m \u001b[0;34m\u001b[0m\u001b[0m\n\u001b[1;32m    272\u001b[0m     \u001b[0;32mif\u001b[0m \u001b[0mlabels\u001b[0m \u001b[0;32mis\u001b[0m \u001b[0;32mNone\u001b[0m\u001b[0;34m:\u001b[0m\u001b[0;34m\u001b[0m\u001b[0;34m\u001b[0m\u001b[0m\n",
            "\u001b[0;31mValueError\u001b[0m: multilabel-indicator is not supported"
          ]
        }
      ]
    },
    {
      "cell_type": "code",
      "metadata": {
        "id": "vwDgStl6emWG",
        "colab_type": "code",
        "colab": {}
      },
      "source": [
        "tn, fp, fn, tp = confusion.ravel()"
      ],
      "execution_count": null,
      "outputs": []
    },
    {
      "cell_type": "code",
      "metadata": {
        "id": "3myXG9tMesIx",
        "colab_type": "code",
        "colab": {}
      },
      "source": [
        "#labels = [(False, 0.75), (False, 1.0), (False, 1.25), (True, 0.75), (True, 1.0), (True, 1.25)]\n",
        "#labels = [\"adagrad\", \"sgd\", \"rmsprop\", \"adam\"]\n",
        "#L2_exp = [0.01, 0.001, 0.0001]\n",
        "#drop = [0.125, 0.25, 0.5]\n",
        "# batch = [64, 256, 512]\n",
        "# plt.figure(figsize=(15,10))\n",
        "# for i in range(3):\n",
        "#     plt.plot(val_accuracy_score[i], \"-\", label=batch[i])\n",
        "#     plt.plot(accuracy_score[i], \"--\", label=batch[i])\n",
        "# plt.legend()\n",
        "# plt.title(\"Accuracy\")\n",
        "# plt.show()"
      ],
      "execution_count": null,
      "outputs": []
    },
    {
      "cell_type": "code",
      "metadata": {
        "id": "Rb9gqggHtDvy",
        "colab_type": "code",
        "colab": {}
      },
      "source": [
        "# momentum >= 1, 會造成整體accuracy, val_accuracy在震盪後都大幅降低\n",
        "# nesterov 正負不影響結果"
      ],
      "execution_count": null,
      "outputs": []
    },
    {
      "cell_type": "code",
      "metadata": {
        "id": "kMFO_blV78pA",
        "colab_type": "code",
        "colab": {}
      },
      "source": [
        "#Adam的表現在預設的參數之下表現最好"
      ],
      "execution_count": null,
      "outputs": []
    },
    {
      "cell_type": "code",
      "metadata": {
        "id": "RICiJj6qBhtO",
        "colab_type": "code",
        "colab": {}
      },
      "source": [
        "#L2值越大，會更不容易overfitting，約L2 = 0.001較好"
      ],
      "execution_count": null,
      "outputs": []
    },
    {
      "cell_type": "code",
      "metadata": {
        "id": "qdQgM5uXOpB2",
        "colab_type": "code",
        "colab": {}
      },
      "source": [
        "#Dropout rate 在0.125時，有點overfiting，在0.25的時候train set 與val set的accuracy看起來很不錯，在0.5的時候有underfitting"
      ],
      "execution_count": null,
      "outputs": []
    },
    {
      "cell_type": "code",
      "metadata": {
        "id": "8MgywFP9jGFE",
        "colab_type": "code",
        "colab": {}
      },
      "source": [
        "#batch size越小，收斂速度可能會越快64>256>512，但最後accuracy差異不大"
      ],
      "execution_count": null,
      "outputs": []
    }
  ]
}