{
  "nbformat": 4,
  "nbformat_minor": 0,
  "metadata": {
    "colab": {
      "name": "台股指數LSTM_prediction_many_to_one.ipynb",
      "provenance": [],
      "collapsed_sections": [],
      "machine_shape": "hm",
      "mount_file_id": "1FvViDhxw9CgXOKjsgLA8JeMYRfo1703R",
      "authorship_tag": "ABX9TyM8dRoytBogl0Wm0rWwFsLN",
      "include_colab_link": true
    },
    "kernelspec": {
      "name": "python3",
      "display_name": "Python 3"
    },
    "accelerator": "GPU"
  },
  "cells": [
    {
      "cell_type": "markdown",
      "metadata": {
        "id": "view-in-github",
        "colab_type": "text"
      },
      "source": [
        "<a href=\"https://colab.research.google.com/github/popogeee/100Day_ML/blob/master/%E5%8F%B0%E8%82%A1%E6%8C%87%E6%95%B8LSTM_prediction_many_to_one.ipynb\" target=\"_parent\"><img src=\"https://colab.research.google.com/assets/colab-badge.svg\" alt=\"Open In Colab\"/></a>"
      ]
    },
    {
      "cell_type": "code",
      "metadata": {
        "id": "TkZm6xQShCVM",
        "colab_type": "code",
        "colab": {}
      },
      "source": [
        "import numpy as np\n",
        "import pandas as pd\n",
        "import matplotlib.pyplot as plt\n",
        "import datetime"
      ],
      "execution_count": null,
      "outputs": []
    },
    {
      "cell_type": "code",
      "metadata": {
        "id": "Pr_nzDbGi_1M",
        "colab_type": "code",
        "colab": {}
      },
      "source": [
        "df = pd.read_csv('test1.csv')"
      ],
      "execution_count": null,
      "outputs": []
    },
    {
      "cell_type": "code",
      "metadata": {
        "id": "gvffX9bsx7xP",
        "colab_type": "code",
        "colab": {}
      },
      "source": [
        "#這邊的test1.csv是台股指數30分鐘取值後的檔案\n",
        "#台股指數每30分鐘取一個平均值\n",
        "#df = df[(df[\"台股指數\"].index >= bottom) & (df[\"台股指數\"].index <= ceil)].resample(\"30T\").mean()"
      ],
      "execution_count": null,
      "outputs": []
    },
    {
      "cell_type": "code",
      "metadata": {
        "id": "S5C0YPbVkQCo",
        "colab_type": "code",
        "colab": {}
      },
      "source": [
        "df[\"date\"] = pd.to_datetime(df[\"date\"])"
      ],
      "execution_count": null,
      "outputs": []
    },
    {
      "cell_type": "code",
      "metadata": {
        "id": "ZPLAcsqPkajG",
        "colab_type": "code",
        "colab": {}
      },
      "source": [
        "df.set_index(\"date\", drop=True, inplace=True)"
      ],
      "execution_count": null,
      "outputs": []
    },
    {
      "cell_type": "code",
      "metadata": {
        "id": "h5zZq5GEmqIQ",
        "colab_type": "code",
        "colab": {}
      },
      "source": [
        "df = df.dropna()"
      ],
      "execution_count": null,
      "outputs": []
    },
    {
      "cell_type": "code",
      "metadata": {
        "id": "R09Pd5zRjVIj",
        "colab_type": "code",
        "colab": {}
      },
      "source": [
        "#將時間限制在2016-01-04 to 2020-08-13\n",
        "bottom = datetime.datetime(2016,1,4)\n",
        "ceil = datetime.datetime(2020,8,13)\n",
        "train = datetime.datetime(2020,7,17)\n",
        "test = datetime.datetime(2020,4,21)"
      ],
      "execution_count": null,
      "outputs": []
    },
    {
      "cell_type": "code",
      "metadata": {
        "id": "e_9jYdSNhHV4",
        "colab_type": "code",
        "colab": {
          "base_uri": "https://localhost:8080/",
          "height": 52
        },
        "outputId": "4f5c04bd-0a3a-4610-8573-abd9dbc37def"
      },
      "source": [
        "df_train = df[df.index <= train]  #訓練集2016-01-04 to 2020-07-17\n",
        "df_test = df[df.index > test]  #測試集2020-04-22 to 2020-08-13\n",
        "print(df_train.shape)\n",
        "print(df_test.shape)"
      ],
      "execution_count": null,
      "outputs": [
        {
          "output_type": "stream",
          "text": [
            "(11070, 1)\n",
            "(800, 1)\n"
          ],
          "name": "stdout"
        }
      ]
    },
    {
      "cell_type": "code",
      "metadata": {
        "id": "qEhQ30MTiYUH",
        "colab_type": "code",
        "colab": {}
      },
      "source": [
        "#建立training set, 有一對一，多對一，多對多不同預測方式\n",
        "from sklearn.preprocessing import MinMaxScaler\n",
        "\n",
        "training_set = df_train.values       \n",
        "sc = MinMaxScaler(feature_range = (0, 1))\n",
        "training_set_scaled = sc.fit_transform(training_set)\n",
        "\n",
        "X_train = []   #預測點的前 60 天的資料\n",
        "y_train = []   #預測點\n",
        "\n",
        "for i in range(150, 11070):  # 11070 是訓練集總數(去掉NaN)\n",
        "    X_train.append(training_set_scaled[i-150:i, 0]) #以120個數字為一組，每次加一往右遞增\n",
        "    y_train.append(training_set_scaled[i, 0])      #以120個數字學習下一個數字(no.121)\n",
        "X_train, y_train = np.array(X_train), np.array(y_train)  # 轉成numpy array的格式，以利輸入 RNN\n",
        "\n",
        "X_train = np.reshape(X_train, (X_train.shape[0], X_train.shape[1], 1))\n",
        "\n",
        "#建立test set\n",
        "real_stock_price = df_test.values\n",
        "inputs = sc.fit_transform(real_stock_price)\n",
        "\n",
        "X_test = []\n",
        "\n",
        "for i in range(150, 800):  \n",
        "    X_test.append(inputs[i-150:i, 0])\n",
        "X_test = np.array(X_test)\n",
        "\n",
        "X_test = np.reshape(X_test, (X_test.shape[0], X_test.shape[1], 1))  # Reshape 成 3-dimension"
      ],
      "execution_count": null,
      "outputs": []
    },
    {
      "cell_type": "code",
      "metadata": {
        "id": "cvoC6mB3iduZ",
        "colab_type": "code",
        "colab": {}
      },
      "source": [
        "# Import the Keras libraries and packages\n",
        "from tensorflow.keras import Sequential, optimizers\n",
        "from tensorflow.keras.layers import Dense, LSTM, Dropout\n",
        "\n",
        "# Initialising the RNN\n",
        "regressor = Sequential()\n",
        "# Adding the first LSTM layer and some Dropout regularisation\n",
        "regressor.add(LSTM(units = 512, return_sequences = True, input_shape = (X_train.shape[1], 1)))\n",
        "regressor.add(Dropout(0.4))\n",
        "\n",
        "# Adding a second LSTM layer and some Dropout regularisation\n",
        "regressor.add(LSTM(units = 256, return_sequences = True))\n",
        "regressor.add(Dropout(0.4))\n",
        "\n",
        "# Adding a third LSTM layer and some Dropout regularisation\n",
        "regressor.add(LSTM(units = 128, return_sequences = True))\n",
        "regressor.add(Dropout(0.4))\n",
        "\n",
        "# Adding a fourth LSTM layer and some Dropout regularisation\n",
        "regressor.add(LSTM(units = 64))\n",
        "regressor.add(Dropout(0.4))\n",
        "\n",
        "# Adding the output layer\n",
        "regressor.add(Dense(units = 1))"
      ],
      "execution_count": null,
      "outputs": []
    },
    {
      "cell_type": "code",
      "metadata": {
        "id": "1bFUSEzHieho",
        "colab_type": "code",
        "colab": {
          "base_uri": "https://localhost:8080/",
          "height": 1000
        },
        "outputId": "f5aacb5e-25dd-46c8-edaf-46603c9cba2d"
      },
      "source": [
        "from tensorflow.keras.callbacks import ModelCheckpoint\n",
        "callbacks_list = [ModelCheckpoint(filepath='test1.hdf5', save_best_only=True)]\n",
        "# Compiling\n",
        "from tensorflow.keras import optimizers\n",
        "\n",
        "regressor.compile(optimizer = 'adam', loss = 'mean_squared_error')\n",
        "# 進行訓練\n",
        "history = regressor.fit(X_train,  y_train, batch_size=64, epochs=100, validation_split=0.2, callbacks=callbacks_list)"
      ],
      "execution_count": null,
      "outputs": [
        {
          "output_type": "stream",
          "text": [
            "Epoch 1/100\n",
            "137/137 [==============================] - 11s 77ms/step - loss: 0.0200 - val_loss: 0.0012\n",
            "Epoch 2/100\n",
            "137/137 [==============================] - 9s 69ms/step - loss: 0.0045 - val_loss: 0.0031\n",
            "Epoch 3/100\n",
            "137/137 [==============================] - 10s 70ms/step - loss: 0.0039 - val_loss: 0.0011\n",
            "Epoch 4/100\n",
            "137/137 [==============================] - 10s 70ms/step - loss: 0.0035 - val_loss: 7.9366e-04\n",
            "Epoch 5/100\n",
            "137/137 [==============================] - 9s 69ms/step - loss: 0.0032 - val_loss: 0.0022\n",
            "Epoch 6/100\n",
            "137/137 [==============================] - 10s 69ms/step - loss: 0.0030 - val_loss: 0.0015\n",
            "Epoch 7/100\n",
            "137/137 [==============================] - 10s 70ms/step - loss: 0.0027 - val_loss: 7.7232e-04\n",
            "Epoch 8/100\n",
            "137/137 [==============================] - 10s 70ms/step - loss: 0.0024 - val_loss: 6.5916e-04\n",
            "Epoch 9/100\n",
            "137/137 [==============================] - 10s 69ms/step - loss: 0.0022 - val_loss: 6.7370e-04\n",
            "Epoch 10/100\n",
            "137/137 [==============================] - 10s 70ms/step - loss: 0.0022 - val_loss: 6.3654e-04\n",
            "Epoch 11/100\n",
            "137/137 [==============================] - 10s 69ms/step - loss: 0.0020 - val_loss: 0.0027\n",
            "Epoch 12/100\n",
            "137/137 [==============================] - 9s 69ms/step - loss: 0.0018 - val_loss: 0.0019\n",
            "Epoch 13/100\n",
            "137/137 [==============================] - 10s 70ms/step - loss: 0.0018 - val_loss: 5.9408e-04\n",
            "Epoch 14/100\n",
            "137/137 [==============================] - 10s 70ms/step - loss: 0.0015 - val_loss: 5.3068e-04\n",
            "Epoch 15/100\n",
            "137/137 [==============================] - 10s 69ms/step - loss: 0.0015 - val_loss: 6.0149e-04\n",
            "Epoch 16/100\n",
            "137/137 [==============================] - 10s 69ms/step - loss: 0.0013 - val_loss: 9.7360e-04\n",
            "Epoch 17/100\n",
            "137/137 [==============================] - 10s 70ms/step - loss: 0.0012 - val_loss: 8.0666e-04\n",
            "Epoch 18/100\n",
            "137/137 [==============================] - 10s 69ms/step - loss: 0.0011 - val_loss: 5.3954e-04\n",
            "Epoch 19/100\n",
            "137/137 [==============================] - 10s 69ms/step - loss: 0.0010 - val_loss: 6.9402e-04\n",
            "Epoch 20/100\n",
            "137/137 [==============================] - 10s 70ms/step - loss: 9.6182e-04 - val_loss: 4.9349e-04\n",
            "Epoch 21/100\n",
            "137/137 [==============================] - 10s 69ms/step - loss: 9.4356e-04 - val_loss: 7.5065e-04\n",
            "Epoch 22/100\n",
            "137/137 [==============================] - 10s 70ms/step - loss: 8.5399e-04 - val_loss: 3.9656e-04\n",
            "Epoch 23/100\n",
            "137/137 [==============================] - 10s 70ms/step - loss: 7.8079e-04 - val_loss: 3.8208e-04\n",
            "Epoch 24/100\n",
            "137/137 [==============================] - 10s 69ms/step - loss: 7.6807e-04 - val_loss: 4.2513e-04\n",
            "Epoch 25/100\n",
            "137/137 [==============================] - 10s 70ms/step - loss: 7.2629e-04 - val_loss: 5.4067e-04\n",
            "Epoch 26/100\n",
            "137/137 [==============================] - 10s 69ms/step - loss: 6.8417e-04 - val_loss: 8.0747e-04\n",
            "Epoch 27/100\n",
            "137/137 [==============================] - 9s 69ms/step - loss: 6.7409e-04 - val_loss: 7.2059e-04\n",
            "Epoch 28/100\n",
            "137/137 [==============================] - 9s 69ms/step - loss: 6.6462e-04 - val_loss: 4.0065e-04\n",
            "Epoch 29/100\n",
            "137/137 [==============================] - 9s 69ms/step - loss: 6.5390e-04 - val_loss: 5.7449e-04\n",
            "Epoch 30/100\n",
            "137/137 [==============================] - 10s 70ms/step - loss: 6.3869e-04 - val_loss: 3.7520e-04\n",
            "Epoch 31/100\n",
            "137/137 [==============================] - 10s 69ms/step - loss: 6.3746e-04 - val_loss: 3.3633e-04\n",
            "Epoch 32/100\n",
            "137/137 [==============================] - 9s 69ms/step - loss: 6.5035e-04 - val_loss: 3.8583e-04\n",
            "Epoch 33/100\n",
            "137/137 [==============================] - 10s 70ms/step - loss: 6.4232e-04 - val_loss: 3.1885e-04\n",
            "Epoch 34/100\n",
            "137/137 [==============================] - 10s 69ms/step - loss: 6.2198e-04 - val_loss: 4.6130e-04\n",
            "Epoch 35/100\n",
            "137/137 [==============================] - 9s 69ms/step - loss: 6.5806e-04 - val_loss: 9.4757e-04\n",
            "Epoch 36/100\n",
            "137/137 [==============================] - 10s 70ms/step - loss: 6.0872e-04 - val_loss: 2.9958e-04\n",
            "Epoch 37/100\n",
            "137/137 [==============================] - 9s 69ms/step - loss: 5.9144e-04 - val_loss: 4.1886e-04\n",
            "Epoch 38/100\n",
            "137/137 [==============================] - 9s 69ms/step - loss: 6.1889e-04 - val_loss: 7.6255e-04\n",
            "Epoch 39/100\n",
            "137/137 [==============================] - 9s 69ms/step - loss: 5.5488e-04 - val_loss: 3.1094e-04\n",
            "Epoch 40/100\n",
            "137/137 [==============================] - 10s 70ms/step - loss: 5.8314e-04 - val_loss: 2.6349e-04\n",
            "Epoch 41/100\n",
            "137/137 [==============================] - 9s 69ms/step - loss: 6.1717e-04 - val_loss: 0.0011\n",
            "Epoch 42/100\n",
            "137/137 [==============================] - 9s 69ms/step - loss: 5.9113e-04 - val_loss: 7.6661e-04\n",
            "Epoch 43/100\n",
            "137/137 [==============================] - 9s 69ms/step - loss: 5.8663e-04 - val_loss: 0.0011\n",
            "Epoch 44/100\n",
            "137/137 [==============================] - 9s 69ms/step - loss: 5.8462e-04 - val_loss: 2.8779e-04\n",
            "Epoch 45/100\n",
            "137/137 [==============================] - 9s 69ms/step - loss: 5.9868e-04 - val_loss: 3.0965e-04\n",
            "Epoch 46/100\n",
            "137/137 [==============================] - 9s 69ms/step - loss: 5.7700e-04 - val_loss: 4.6579e-04\n",
            "Epoch 47/100\n",
            "137/137 [==============================] - 9s 69ms/step - loss: 5.7823e-04 - val_loss: 9.8230e-04\n",
            "Epoch 48/100\n",
            "137/137 [==============================] - 9s 69ms/step - loss: 6.3218e-04 - val_loss: 2.6375e-04\n",
            "Epoch 49/100\n",
            "137/137 [==============================] - 9s 69ms/step - loss: 5.9024e-04 - val_loss: 7.7699e-04\n",
            "Epoch 50/100\n",
            "137/137 [==============================] - 9s 69ms/step - loss: 5.9859e-04 - val_loss: 4.5565e-04\n",
            "Epoch 51/100\n",
            "137/137 [==============================] - 9s 69ms/step - loss: 5.7561e-04 - val_loss: 6.6335e-04\n",
            "Epoch 52/100\n",
            "137/137 [==============================] - 10s 69ms/step - loss: 6.1311e-04 - val_loss: 3.7146e-04\n",
            "Epoch 53/100\n",
            "137/137 [==============================] - 10s 69ms/step - loss: 5.8282e-04 - val_loss: 0.0012\n",
            "Epoch 54/100\n",
            "137/137 [==============================] - 10s 69ms/step - loss: 6.1147e-04 - val_loss: 2.6654e-04\n",
            "Epoch 55/100\n",
            "137/137 [==============================] - 10s 70ms/step - loss: 5.6826e-04 - val_loss: 2.7814e-04\n",
            "Epoch 56/100\n",
            "137/137 [==============================] - 10s 70ms/step - loss: 6.0434e-04 - val_loss: 7.2477e-04\n",
            "Epoch 57/100\n",
            "137/137 [==============================] - 10s 70ms/step - loss: 5.8196e-04 - val_loss: 3.3182e-04\n",
            "Epoch 58/100\n",
            "137/137 [==============================] - 10s 70ms/step - loss: 5.6170e-04 - val_loss: 6.2729e-04\n",
            "Epoch 59/100\n",
            "137/137 [==============================] - 10s 70ms/step - loss: 6.1958e-04 - val_loss: 9.2058e-04\n",
            "Epoch 60/100\n",
            "137/137 [==============================] - 10s 70ms/step - loss: 6.0023e-04 - val_loss: 3.9881e-04\n",
            "Epoch 61/100\n",
            "137/137 [==============================] - 10s 70ms/step - loss: 5.2588e-04 - val_loss: 1.8288e-04\n",
            "Epoch 62/100\n",
            "137/137 [==============================] - 10s 69ms/step - loss: 5.6395e-04 - val_loss: 5.9271e-04\n",
            "Epoch 63/100\n",
            "137/137 [==============================] - 10s 69ms/step - loss: 5.6515e-04 - val_loss: 2.6671e-04\n",
            "Epoch 64/100\n",
            "137/137 [==============================] - 10s 69ms/step - loss: 5.8706e-04 - val_loss: 4.5530e-04\n",
            "Epoch 65/100\n",
            "137/137 [==============================] - 10s 70ms/step - loss: 6.0490e-04 - val_loss: 1.7655e-04\n",
            "Epoch 66/100\n",
            "137/137 [==============================] - 10s 69ms/step - loss: 5.8079e-04 - val_loss: 6.9170e-04\n",
            "Epoch 67/100\n",
            "137/137 [==============================] - 10s 70ms/step - loss: 5.5508e-04 - val_loss: 2.2025e-04\n",
            "Epoch 68/100\n",
            "137/137 [==============================] - 10s 69ms/step - loss: 5.9735e-04 - val_loss: 1.9111e-04\n",
            "Epoch 69/100\n",
            "137/137 [==============================] - 10s 69ms/step - loss: 5.1451e-04 - val_loss: 6.6782e-04\n",
            "Epoch 70/100\n",
            "137/137 [==============================] - 10s 70ms/step - loss: 5.5489e-04 - val_loss: 2.8356e-04\n",
            "Epoch 71/100\n",
            "137/137 [==============================] - 10s 69ms/step - loss: 5.3916e-04 - val_loss: 2.7520e-04\n",
            "Epoch 72/100\n",
            "137/137 [==============================] - 10s 70ms/step - loss: 5.5797e-04 - val_loss: 5.9302e-04\n",
            "Epoch 73/100\n",
            "137/137 [==============================] - 10s 70ms/step - loss: 5.4151e-04 - val_loss: 2.0200e-04\n",
            "Epoch 74/100\n",
            "137/137 [==============================] - 9s 69ms/step - loss: 5.5829e-04 - val_loss: 1.9456e-04\n",
            "Epoch 75/100\n",
            "137/137 [==============================] - 9s 69ms/step - loss: 5.7791e-04 - val_loss: 2.0685e-04\n",
            "Epoch 76/100\n",
            "137/137 [==============================] - 10s 70ms/step - loss: 5.5962e-04 - val_loss: 7.8318e-04\n",
            "Epoch 77/100\n",
            "137/137 [==============================] - 9s 69ms/step - loss: 5.5032e-04 - val_loss: 4.5035e-04\n",
            "Epoch 78/100\n",
            "137/137 [==============================] - 10s 70ms/step - loss: 5.6499e-04 - val_loss: 1.6346e-04\n",
            "Epoch 79/100\n",
            "137/137 [==============================] - 9s 69ms/step - loss: 5.1279e-04 - val_loss: 1.7491e-04\n",
            "Epoch 80/100\n",
            "137/137 [==============================] - 10s 69ms/step - loss: 5.1086e-04 - val_loss: 2.7980e-04\n",
            "Epoch 81/100\n",
            "137/137 [==============================] - 10s 70ms/step - loss: 5.9917e-04 - val_loss: 2.9077e-04\n",
            "Epoch 82/100\n",
            "137/137 [==============================] - 9s 69ms/step - loss: 5.3141e-04 - val_loss: 3.8130e-04\n",
            "Epoch 83/100\n",
            "137/137 [==============================] - 9s 69ms/step - loss: 5.2460e-04 - val_loss: 1.9862e-04\n",
            "Epoch 84/100\n",
            "137/137 [==============================] - 10s 70ms/step - loss: 5.6092e-04 - val_loss: 1.9808e-04\n",
            "Epoch 85/100\n",
            "137/137 [==============================] - 10s 70ms/step - loss: 5.0584e-04 - val_loss: 2.6869e-04\n",
            "Epoch 86/100\n",
            "137/137 [==============================] - 10s 70ms/step - loss: 5.2738e-04 - val_loss: 3.4382e-04\n",
            "Epoch 87/100\n",
            "137/137 [==============================] - 10s 70ms/step - loss: 5.8501e-04 - val_loss: 2.1927e-04\n",
            "Epoch 88/100\n",
            "137/137 [==============================] - 10s 70ms/step - loss: 5.1095e-04 - val_loss: 6.6318e-04\n",
            "Epoch 89/100\n",
            "137/137 [==============================] - 10s 70ms/step - loss: 5.2042e-04 - val_loss: 3.9860e-04\n",
            "Epoch 90/100\n",
            "137/137 [==============================] - 10s 70ms/step - loss: 5.2924e-04 - val_loss: 3.6899e-04\n",
            "Epoch 91/100\n",
            "137/137 [==============================] - 10s 70ms/step - loss: 5.3750e-04 - val_loss: 2.1149e-04\n",
            "Epoch 92/100\n",
            "137/137 [==============================] - 10s 70ms/step - loss: 5.2077e-04 - val_loss: 9.4730e-04\n",
            "Epoch 93/100\n",
            "137/137 [==============================] - 10s 70ms/step - loss: 5.0366e-04 - val_loss: 4.9374e-04\n",
            "Epoch 94/100\n",
            "137/137 [==============================] - 10s 70ms/step - loss: 5.2615e-04 - val_loss: 3.9945e-04\n",
            "Epoch 95/100\n",
            "137/137 [==============================] - 10s 70ms/step - loss: 5.5058e-04 - val_loss: 6.0654e-04\n",
            "Epoch 96/100\n",
            "137/137 [==============================] - 10s 69ms/step - loss: 5.5905e-04 - val_loss: 3.0243e-04\n",
            "Epoch 97/100\n",
            "137/137 [==============================] - 10s 70ms/step - loss: 5.3125e-04 - val_loss: 1.8153e-04\n",
            "Epoch 98/100\n",
            "137/137 [==============================] - 10s 70ms/step - loss: 5.2364e-04 - val_loss: 1.6272e-04\n",
            "Epoch 99/100\n",
            "137/137 [==============================] - 10s 70ms/step - loss: 4.9335e-04 - val_loss: 9.5556e-04\n",
            "Epoch 100/100\n",
            "137/137 [==============================] - 10s 69ms/step - loss: 5.3042e-04 - val_loss: 0.0011\n"
          ],
          "name": "stdout"
        }
      ]
    },
    {
      "cell_type": "code",
      "metadata": {
        "id": "jhlb73ZjyqGj",
        "colab_type": "code",
        "colab": {
          "base_uri": "https://localhost:8080/",
          "height": 357
        },
        "outputId": "912b6542-667b-4f0f-8d89-c8615f15429d"
      },
      "source": [
        "#load best model\n",
        "from tensorflow.keras.models import load_model\n",
        "\n",
        "regressor = load_model('test.hdf5')\n",
        "predicted_stock_price = regressor.predict(X_test)\n",
        "predicted_stock_price = sc.inverse_transform(predicted_stock_price)\n",
        "\n",
        "# Visualising the results\n",
        "plt.figure(figsize=(14,6))\n",
        "plt.plot(real_stock_price[-650:], color = 'red', label = 'Real Stock Price')  # 紅線表示真實股價\n",
        "plt.plot(predicted_stock_price, color = 'blue', label = 'Predicted Stock Price')  # 藍線表示預測股價\n",
        "\n",
        "plt.title('Price Prediction')\n",
        "plt.axhline(predicted_stock_price.min(), linestyle='--', color= 'g')\n",
        "plt.axhline(predicted_stock_price.max(), linestyle='--', color= 'g')\n",
        "plt.xlabel('Time')\n",
        "plt.ylabel('TW Stock Price')\n",
        "\n",
        "plt.legend()\n",
        "plt.xticks(rotation=45)\n",
        "plt.show()"
      ],
      "execution_count": null,
      "outputs": [
        {
          "output_type": "display_data",
          "data": {
            "image/png": "[encoded data removed]",
            "text/plain": [
              "<Figure size 1008x432 with 1 Axes>"
            ]
          },
          "metadata": {
            "tags": [],
            "needs_background": "light"
          }
        }
      ]
    },
    {
      "cell_type": "code",
      "metadata": {
        "id": "xKYXNeIB6M3C",
        "colab_type": "code",
        "colab": {}
      },
      "source": [
        "date = df_test[-650:].index\n",
        "real = real_stock_price[-650:]\n",
        "after_prediction = predicted_stock_price"
      ],
      "execution_count": null,
      "outputs": []
    },
    {
      "cell_type": "code",
      "metadata": {
        "id": "arXDPkh82BFX",
        "colab_type": "code",
        "colab": {
          "base_uri": "https://localhost:8080/",
          "height": 431
        },
        "outputId": "6dd915aa-b0d8-4b93-e26b-bcadde0db4ff"
      },
      "source": [
        "after_df = pd.DataFrame(index=date, data={'real':real.reshape(650,), 'prediction':after_prediction.reshape(650,)})\n",
        "after_df "
      ],
      "execution_count": null,
      "outputs": [
        {
          "output_type": "execute_result",
          "data": {
            "text/html": [
              "<div>\n",
              "<style scoped>\n",
              "    .dataframe tbody tr th:only-of-type {\n",
              "        vertical-align: middle;\n",
              "    }\n",
              "\n",
              "    .dataframe tbody tr th {\n",
              "        vertical-align: top;\n",
              "    }\n",
              "\n",
              "    .dataframe thead th {\n",
              "        text-align: right;\n",
              "    }\n",
              "</style>\n",
              "<table border=\"1\" class=\"dataframe\">\n",
              "  <thead>\n",
              "    <tr style=\"text-align: right;\">\n",
              "      <th></th>\n",
              "      <th>real</th>\n",
              "      <th>prediction</th>\n",
              "    </tr>\n",
              "    <tr>\n",
              "      <th>date</th>\n",
              "      <th></th>\n",
              "      <th></th>\n",
              "    </tr>\n",
              "  </thead>\n",
              "  <tbody>\n",
              "    <tr>\n",
              "      <th>2020-05-13 09:00:00</th>\n",
              "      <td>10852.671556</td>\n",
              "      <td>10871.030273</td>\n",
              "    </tr>\n",
              "    <tr>\n",
              "      <th>2020-05-13 09:30:00</th>\n",
              "      <td>10842.555000</td>\n",
              "      <td>10858.024414</td>\n",
              "    </tr>\n",
              "    <tr>\n",
              "      <th>2020-05-13 10:00:00</th>\n",
              "      <td>10877.796778</td>\n",
              "      <td>10841.174805</td>\n",
              "    </tr>\n",
              "    <tr>\n",
              "      <th>2020-05-13 10:30:00</th>\n",
              "      <td>10896.618694</td>\n",
              "      <td>10841.395508</td>\n",
              "    </tr>\n",
              "    <tr>\n",
              "      <th>2020-05-13 11:00:00</th>\n",
              "      <td>10894.089611</td>\n",
              "      <td>10854.939453</td>\n",
              "    </tr>\n",
              "    <tr>\n",
              "      <th>...</th>\n",
              "      <td>...</td>\n",
              "      <td>...</td>\n",
              "    </tr>\n",
              "    <tr>\n",
              "      <th>2020-08-13 11:30:00</th>\n",
              "      <td>12733.944444</td>\n",
              "      <td>12727.255859</td>\n",
              "    </tr>\n",
              "    <tr>\n",
              "      <th>2020-08-13 12:00:00</th>\n",
              "      <td>12730.004222</td>\n",
              "      <td>12718.530273</td>\n",
              "    </tr>\n",
              "    <tr>\n",
              "      <th>2020-08-13 12:30:00</th>\n",
              "      <td>12732.148750</td>\n",
              "      <td>12711.313477</td>\n",
              "    </tr>\n",
              "    <tr>\n",
              "      <th>2020-08-13 13:00:00</th>\n",
              "      <td>12726.753722</td>\n",
              "      <td>12708.792969</td>\n",
              "    </tr>\n",
              "    <tr>\n",
              "      <th>2020-08-13 13:30:00</th>\n",
              "      <td>12763.130000</td>\n",
              "      <td>12707.228516</td>\n",
              "    </tr>\n",
              "  </tbody>\n",
              "</table>\n",
              "<p>650 rows × 2 columns</p>\n",
              "</div>"
            ],
            "text/plain": [
              "                             real    prediction\n",
              "date                                           \n",
              "2020-05-13 09:00:00  10852.671556  10871.030273\n",
              "2020-05-13 09:30:00  10842.555000  10858.024414\n",
              "2020-05-13 10:00:00  10877.796778  10841.174805\n",
              "2020-05-13 10:30:00  10896.618694  10841.395508\n",
              "2020-05-13 11:00:00  10894.089611  10854.939453\n",
              "...                           ...           ...\n",
              "2020-08-13 11:30:00  12733.944444  12727.255859\n",
              "2020-08-13 12:00:00  12730.004222  12718.530273\n",
              "2020-08-13 12:30:00  12732.148750  12711.313477\n",
              "2020-08-13 13:00:00  12726.753722  12708.792969\n",
              "2020-08-13 13:30:00  12763.130000  12707.228516\n",
              "\n",
              "[650 rows x 2 columns]"
            ]
          },
          "metadata": {
            "tags": []
          },
          "execution_count": 73
        }
      ]
    },
    {
      "cell_type": "code",
      "metadata": {
        "id": "_jB8o6W8_APg",
        "colab_type": "code",
        "colab": {
          "base_uri": "https://localhost:8080/",
          "height": 285
        },
        "outputId": "006fd3ae-e27b-4974-b0d2-358a938af90f"
      },
      "source": [
        "#2SD是prediction price的上下限\n",
        "after_df['delta'] = after_df[\"prediction\"] - after_df[\"real\"]\n",
        "after_df[\"delta\"].plot()\n",
        "plt.axhline(after_df[\"delta\"].mean(), linestyle='--', color= 'r')\n",
        "plt.axhline(after_df[\"delta\"].mean()-after_df[\"delta\"].std()*2, linestyle='--', color= 'r')\n",
        "plt.axhline(after_df[\"delta\"].mean()+after_df[\"delta\"].std()*2, linestyle='--', color= 'r')\n",
        "plt.show()"
      ],
      "execution_count": null,
      "outputs": [
        {
          "output_type": "display_data",
          "data": {
            "image/png": "[encoded data removed]",
            "text/plain": [
              "<Figure size 432x288 with 1 Axes>"
            ]
          },
          "metadata": {
            "tags": [],
            "needs_background": "light"
          }
        }
      ]
    },
    {
      "cell_type": "code",
      "metadata": {
        "id": "lEY3Y-BPoRwG",
        "colab_type": "code",
        "colab": {
          "base_uri": "https://localhost:8080/",
          "height": 265
        },
        "outputId": "f2b51f01-bbe4-4400-b2be-dbc3c6e6860c"
      },
      "source": [
        "plt.plot(history.history['loss'], label=\"loss\")\n",
        "plt.plot(history.history['val_loss'], label=\"val_loss\")\n",
        "plt.legend()\n",
        "plt.show()"
      ],
      "execution_count": null,
      "outputs": [
        {
          "output_type": "display_data",
          "data": {
            "image/png": "[encoded data removed]",
            "text/plain": [
              "<Figure size 432x288 with 1 Axes>"
            ]
          },
          "metadata": {
            "tags": [],
            "needs_background": "light"
          }
        }
      ]
    },
    {
      "cell_type": "code",
      "metadata": {
        "id": "ah8vveqg_CBA",
        "colab_type": "code",
        "colab": {
          "base_uri": "https://localhost:8080/",
          "height": 34
        },
        "outputId": "97f4d64c-6719-4799-8759-e7eca4e30d2c"
      },
      "source": [
        "from sklearn.metrics import r2_score\n",
        "r2_score(real, after_prediction)"
      ],
      "execution_count": null,
      "outputs": [
        {
          "output_type": "execute_result",
          "data": {
            "text/plain": [
              "0.9939597255054848"
            ]
          },
          "metadata": {
            "tags": []
          },
          "execution_count": 76
        }
      ]
    },
    {
      "cell_type": "code",
      "metadata": {
        "id": "3SOEfUDbnCuy",
        "colab_type": "code",
        "colab": {}
      },
      "source": [
        "#1 0.9677716447648803\n",
        "#2 0.9939597255054848 span from 120 increase to 150, batch_size from 120 decrease to 64"
      ],
      "execution_count": null,
      "outputs": []
    },
    {
      "cell_type": "code",
      "metadata": {
        "id": "P8dg8WPH2cXP",
        "colab_type": "code",
        "colab": {
          "base_uri": "https://localhost:8080/",
          "height": 225
        },
        "outputId": "e8c2020a-fcd5-4117-d707-82ed3334ad10"
      },
      "source": [
        "new = pd.read_csv('for_prediction.csv')\n",
        "new.drop('Unnamed: 0', inplace=True, axis=1)\n",
        "new_150 = new.iloc[-150:]\n",
        "new_150.set_index(\"date\", drop=True, inplace=True)\n",
        "new_150.tail()"
      ],
      "execution_count": null,
      "outputs": [
        {
          "output_type": "execute_result",
          "data": {
            "text/html": [
              "<div>\n",
              "<style scoped>\n",
              "    .dataframe tbody tr th:only-of-type {\n",
              "        vertical-align: middle;\n",
              "    }\n",
              "\n",
              "    .dataframe tbody tr th {\n",
              "        vertical-align: top;\n",
              "    }\n",
              "\n",
              "    .dataframe thead th {\n",
              "        text-align: right;\n",
              "    }\n",
              "</style>\n",
              "<table border=\"1\" class=\"dataframe\">\n",
              "  <thead>\n",
              "    <tr style=\"text-align: right;\">\n",
              "      <th></th>\n",
              "      <th>台股指數</th>\n",
              "    </tr>\n",
              "    <tr>\n",
              "      <th>date</th>\n",
              "      <th></th>\n",
              "    </tr>\n",
              "  </thead>\n",
              "  <tbody>\n",
              "    <tr>\n",
              "      <th>2020-08-18 11:30:00</th>\n",
              "      <td>12901.155417</td>\n",
              "    </tr>\n",
              "    <tr>\n",
              "      <th>2020-08-18 12:00:00</th>\n",
              "      <td>12909.589917</td>\n",
              "    </tr>\n",
              "    <tr>\n",
              "      <th>2020-08-18 12:30:00</th>\n",
              "      <td>12898.279111</td>\n",
              "    </tr>\n",
              "    <tr>\n",
              "      <th>2020-08-18 13:00:00</th>\n",
              "      <td>12896.715417</td>\n",
              "    </tr>\n",
              "    <tr>\n",
              "      <th>2020-08-18 13:30:00</th>\n",
              "      <td>12872.140000</td>\n",
              "    </tr>\n",
              "  </tbody>\n",
              "</table>\n",
              "</div>"
            ],
            "text/plain": [
              "                             台股指數\n",
              "date                             \n",
              "2020-08-18 11:30:00  12901.155417\n",
              "2020-08-18 12:00:00  12909.589917\n",
              "2020-08-18 12:30:00  12898.279111\n",
              "2020-08-18 13:00:00  12896.715417\n",
              "2020-08-18 13:30:00  12872.140000"
            ]
          },
          "metadata": {
            "tags": []
          },
          "execution_count": 121
        }
      ]
    },
    {
      "cell_type": "code",
      "metadata": {
        "id": "V5lvybrTxtSO",
        "colab_type": "code",
        "colab": {
          "base_uri": "https://localhost:8080/",
          "height": 54
        },
        "outputId": "0ecee2d8-6f1d-4988-806c-94e495fd0ebe"
      },
      "source": [
        "#建立prediction set\n",
        "nearby_price = new_150.values\n",
        "\n",
        "inputs = sc.fit_transform(nearby_price)\n",
        "\n",
        "X_test = []\n",
        "\n",
        "for i in range(150, 151):  \n",
        "    X_test.append(inputs[i-150:i, 0])\n",
        "X_test = np.array(X_test)\n",
        "\n",
        "X_test = np.reshape(X_test, (X_test.shape[0], X_test.shape[1], 1))  # Reshape 成 3-dimension\n",
        "regressor = load_model('test.hdf5')\n",
        "predicted_stock_price = regressor.predict(X_test)\n",
        "predicted_stock_price = sc.inverse_transform(predicted_stock_price)"
      ],
      "execution_count": null,
      "outputs": [
        {
          "output_type": "stream",
          "text": [
            "WARNING:tensorflow:9 out of the last 29 calls to <function Model.make_predict_function.<locals>.predict_function at 0x7f3fd6259ae8> triggered tf.function retracing. Tracing is expensive and the excessive number of tracings could be due to (1) creating @tf.function repeatedly in a loop, (2) passing tensors with different shapes, (3) passing Python objects instead of tensors. For (1), please define your @tf.function outside of the loop. For (2), @tf.function has experimental_relax_shapes=True option that relaxes argument shapes that can avoid unnecessary retracing. For (3), please refer to https://www.tensorflow.org/tutorials/customization/performance#python_or_tensor_args and https://www.tensorflow.org/api_docs/python/tf/function for  more details.\n"
          ],
          "name": "stdout"
        }
      ]
    },
    {
      "cell_type": "code",
      "metadata": {
        "id": "XcVK-P-G5DOp",
        "colab_type": "code",
        "colab": {
          "base_uri": "https://localhost:8080/",
          "height": 34
        },
        "outputId": "f2fb5507-de3b-4e7f-f850-1749419f2245"
      },
      "source": [
        "predicted_stock_price"
      ],
      "execution_count": null,
      "outputs": [
        {
          "output_type": "execute_result",
          "data": {
            "text/plain": [
              "array([[12885.163]], dtype=float32)"
            ]
          },
          "metadata": {
            "tags": []
          },
          "execution_count": 124
        }
      ]
    },
    {
      "cell_type": "code",
      "metadata": {
        "id": "Qjt8Kam45JmH",
        "colab_type": "code",
        "colab": {
          "base_uri": "https://localhost:8080/",
          "height": 195
        },
        "outputId": "829d12fb-0d8a-4fe7-e573-6dccf6af4220"
      },
      "source": [
        "sc = MinMaxScaler(feature_range = (0, 1))\n",
        "nearby_price = new_150.values\n",
        "predictions = []\n",
        "for j in range(9):    \n",
        "    nearby_price = nearby_price.reshape(150,1)\n",
        "    inputs = sc.fit_transform(nearby_price)\n",
        "    X_test = []\n",
        "    for i in range(150, 151):  \n",
        "        X_test.append(inputs[i-150:i, 0])\n",
        "    X_test = np.array(X_test)\n",
        "    X_test = np.reshape(X_test, (X_test.shape[0], X_test.shape[1], 1))  # Reshape 成 3-dimension\n",
        "    regressor = load_model('test.hdf5')\n",
        "    predicted_stock_price = regressor.predict(X_test)\n",
        "    predicted_stock_price = sc.inverse_transform(predicted_stock_price)\n",
        "    predictions.append(predicted_stock_price)\n",
        "    nearby_price = np.append(nearby_price[-149:], predicted_stock_price)"
      ],
      "execution_count": null,
      "outputs": [
        {
          "output_type": "stream",
          "text": [
            "WARNING:tensorflow:11 out of the last 11 calls to <function Model.make_predict_function.<locals>.predict_function at 0x7f3f6dcf1378> triggered tf.function retracing. Tracing is expensive and the excessive number of tracings could be due to (1) creating @tf.function repeatedly in a loop, (2) passing tensors with different shapes, (3) passing Python objects instead of tensors. For (1), please define your @tf.function outside of the loop. For (2), @tf.function has experimental_relax_shapes=True option that relaxes argument shapes that can avoid unnecessary retracing. For (3), please refer to https://www.tensorflow.org/tutorials/customization/performance#python_or_tensor_args and https://www.tensorflow.org/api_docs/python/tf/function for  more details.\n",
            "WARNING:tensorflow:11 out of the last 11 calls to <function Model.make_predict_function.<locals>.predict_function at 0x7f3f6b08eae8> triggered tf.function retracing. Tracing is expensive and the excessive number of tracings could be due to (1) creating @tf.function repeatedly in a loop, (2) passing tensors with different shapes, (3) passing Python objects instead of tensors. For (1), please define your @tf.function outside of the loop. For (2), @tf.function has experimental_relax_shapes=True option that relaxes argument shapes that can avoid unnecessary retracing. For (3), please refer to https://www.tensorflow.org/tutorials/customization/performance#python_or_tensor_args and https://www.tensorflow.org/api_docs/python/tf/function for  more details.\n",
            "WARNING:tensorflow:11 out of the last 11 calls to <function Model.make_predict_function.<locals>.predict_function at 0x7f3f6a24b1e0> triggered tf.function retracing. Tracing is expensive and the excessive number of tracings could be due to (1) creating @tf.function repeatedly in a loop, (2) passing tensors with different shapes, (3) passing Python objects instead of tensors. For (1), please define your @tf.function outside of the loop. For (2), @tf.function has experimental_relax_shapes=True option that relaxes argument shapes that can avoid unnecessary retracing. For (3), please refer to https://www.tensorflow.org/tutorials/customization/performance#python_or_tensor_args and https://www.tensorflow.org/api_docs/python/tf/function for  more details.\n",
            "WARNING:tensorflow:11 out of the last 11 calls to <function Model.make_predict_function.<locals>.predict_function at 0x7f3f962ad620> triggered tf.function retracing. Tracing is expensive and the excessive number of tracings could be due to (1) creating @tf.function repeatedly in a loop, (2) passing tensors with different shapes, (3) passing Python objects instead of tensors. For (1), please define your @tf.function outside of the loop. For (2), @tf.function has experimental_relax_shapes=True option that relaxes argument shapes that can avoid unnecessary retracing. For (3), please refer to https://www.tensorflow.org/tutorials/customization/performance#python_or_tensor_args and https://www.tensorflow.org/api_docs/python/tf/function for  more details.\n",
            "WARNING:tensorflow:11 out of the last 11 calls to <function Model.make_predict_function.<locals>.predict_function at 0x7f3f965aed08> triggered tf.function retracing. Tracing is expensive and the excessive number of tracings could be due to (1) creating @tf.function repeatedly in a loop, (2) passing tensors with different shapes, (3) passing Python objects instead of tensors. For (1), please define your @tf.function outside of the loop. For (2), @tf.function has experimental_relax_shapes=True option that relaxes argument shapes that can avoid unnecessary retracing. For (3), please refer to https://www.tensorflow.org/tutorials/customization/performance#python_or_tensor_args and https://www.tensorflow.org/api_docs/python/tf/function for  more details.\n",
            "WARNING:tensorflow:11 out of the last 11 calls to <function Model.make_predict_function.<locals>.predict_function at 0x7f3f6db40b70> triggered tf.function retracing. Tracing is expensive and the excessive number of tracings could be due to (1) creating @tf.function repeatedly in a loop, (2) passing tensors with different shapes, (3) passing Python objects instead of tensors. For (1), please define your @tf.function outside of the loop. For (2), @tf.function has experimental_relax_shapes=True option that relaxes argument shapes that can avoid unnecessary retracing. For (3), please refer to https://www.tensorflow.org/tutorials/customization/performance#python_or_tensor_args and https://www.tensorflow.org/api_docs/python/tf/function for  more details.\n",
            "WARNING:tensorflow:11 out of the last 11 calls to <function Model.make_predict_function.<locals>.predict_function at 0x7f3f6f18d268> triggered tf.function retracing. Tracing is expensive and the excessive number of tracings could be due to (1) creating @tf.function repeatedly in a loop, (2) passing tensors with different shapes, (3) passing Python objects instead of tensors. For (1), please define your @tf.function outside of the loop. For (2), @tf.function has experimental_relax_shapes=True option that relaxes argument shapes that can avoid unnecessary retracing. For (3), please refer to https://www.tensorflow.org/tutorials/customization/performance#python_or_tensor_args and https://www.tensorflow.org/api_docs/python/tf/function for  more details.\n",
            "WARNING:tensorflow:11 out of the last 11 calls to <function Model.make_predict_function.<locals>.predict_function at 0x7f3f6931c8c8> triggered tf.function retracing. Tracing is expensive and the excessive number of tracings could be due to (1) creating @tf.function repeatedly in a loop, (2) passing tensors with different shapes, (3) passing Python objects instead of tensors. For (1), please define your @tf.function outside of the loop. For (2), @tf.function has experimental_relax_shapes=True option that relaxes argument shapes that can avoid unnecessary retracing. For (3), please refer to https://www.tensorflow.org/tutorials/customization/performance#python_or_tensor_args and https://www.tensorflow.org/api_docs/python/tf/function for  more details.\n",
            "WARNING:tensorflow:11 out of the last 11 calls to <function Model.make_predict_function.<locals>.predict_function at 0x7f3f685a8f28> triggered tf.function retracing. Tracing is expensive and the excessive number of tracings could be due to (1) creating @tf.function repeatedly in a loop, (2) passing tensors with different shapes, (3) passing Python objects instead of tensors. For (1), please define your @tf.function outside of the loop. For (2), @tf.function has experimental_relax_shapes=True option that relaxes argument shapes that can avoid unnecessary retracing. For (3), please refer to https://www.tensorflow.org/tutorials/customization/performance#python_or_tensor_args and https://www.tensorflow.org/api_docs/python/tf/function for  more details.\n"
          ],
          "name": "stdout"
        }
      ]
    },
    {
      "cell_type": "code",
      "metadata": {
        "id": "G7De8kQB6k55",
        "colab_type": "code",
        "colab": {
          "base_uri": "https://localhost:8080/",
          "height": 175
        },
        "outputId": "73c04290-a0d9-4051-a611-7bd558fe02e6"
      },
      "source": [
        "lists = []\n",
        "for i in range(9):\n",
        "    g = predictions[i][0][0]\n",
        "    lists.append(g)\n",
        "lists"
      ],
      "execution_count": null,
      "outputs": [
        {
          "output_type": "execute_result",
          "data": {
            "text/plain": [
              "[12885.163,\n",
              " 12879.369,\n",
              " 12878.658,\n",
              " 12879.696,\n",
              " 12880.562,\n",
              " 12880.742,\n",
              " 12880.424,\n",
              " 12879.91,\n",
              " 12879.387]"
            ]
          },
          "metadata": {
            "tags": []
          },
          "execution_count": 162
        }
      ]
    },
    {
      "cell_type": "code",
      "metadata": {
        "id": "iim90fBLWDLq",
        "colab_type": "code",
        "colab": {}
      },
      "source": [
        ""
      ],
      "execution_count": null,
      "outputs": []
    }
  ]
}