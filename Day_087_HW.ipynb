{
  "nbformat": 4,
  "nbformat_minor": 0,
  "metadata": {
    "colab": {
      "name": "cifar10_para_setup.ipynb",
      "provenance": [],
      "collapsed_sections": [],
      "authorship_tag": "ABX9TyMMntBRo53BFHw8fzfkFXkT",
      "include_colab_link": true
    },
    "kernelspec": {
      "name": "python3",
      "display_name": "Python 3"
    },
    "accelerator": "GPU"
  },
  "cells": [
    {
      "cell_type": "markdown",
      "metadata": {
        "id": "view-in-github",
        "colab_type": "text"
      },
      "source": [
        "<a href=\"https://colab.research.google.com/github/popogeee/100Day_ML/blob/master/Day_087_HW.ipynb\" target=\"_parent\"><img src=\"https://colab.research.google.com/assets/colab-badge.svg\" alt=\"Open In Colab\"/></a>"
      ]
    },
    {
      "cell_type": "code",
      "metadata": {
        "id": "yqsXjUH_aNXO",
        "colab_type": "code",
        "colab": {
          "base_uri": "https://localhost:8080/",
          "height": 369
        },
        "outputId": "2a73bd44-8158-4f2f-dc65-375a5efe222b"
      },
      "source": [
        "!nvidia-smi"
      ],
      "execution_count": 1,
      "outputs": [
        {
          "output_type": "stream",
          "text": [
            "Thu Jul 16 15:46:06 2020       \n",
            "+-----------------------------------------------------------------------------+\n",
            "| NVIDIA-SMI 450.51.05    Driver Version: 418.67       CUDA Version: 10.1     |\n",
            "|-------------------------------+----------------------+----------------------+\n",
            "| GPU  Name        Persistence-M| Bus-Id        Disp.A | Volatile Uncorr. ECC |\n",
            "| Fan  Temp  Perf  Pwr:Usage/Cap|         Memory-Usage | GPU-Util  Compute M. |\n",
            "|                               |                      |               MIG M. |\n",
            "|===============================+======================+======================|\n",
            "|   0  Tesla K80           Off  | 00000000:00:04.0 Off |                    0 |\n",
            "| N/A   72C    P8    33W / 149W |      0MiB / 11441MiB |      0%      Default |\n",
            "|                               |                      |                 ERR! |\n",
            "+-------------------------------+----------------------+----------------------+\n",
            "                                                                               \n",
            "+-----------------------------------------------------------------------------+\n",
            "| Processes:                                                                  |\n",
            "|  GPU   GI   CI        PID   Type   Process name                  GPU Memory |\n",
            "|        ID   ID                                                   Usage      |\n",
            "|=============================================================================|\n",
            "|  No running processes found                                                 |\n",
            "+-----------------------------------------------------------------------------+\n"
          ],
          "name": "stdout"
        }
      ]
    },
    {
      "cell_type": "code",
      "metadata": {
        "id": "MA6URoeraQS0",
        "colab_type": "code",
        "colab": {
          "base_uri": "https://localhost:8080/",
          "height": 34
        },
        "outputId": "d8c00d49-242c-4a95-c018-3c97d1488d7f"
      },
      "source": [
        "from keras import datasets\n",
        "import keras\n",
        "import numpy as np\n",
        "import pandas as pd\n",
        "import matplotlib.pyplot as plt\n",
        "from keras.models import Sequential\n",
        "from keras.layers import Dense, Dropout, Flatten, Conv2D, MaxPooling2D, Activation"
      ],
      "execution_count": 2,
      "outputs": [
        {
          "output_type": "stream",
          "text": [
            "Using TensorFlow backend.\n"
          ],
          "name": "stderr"
        }
      ]
    },
    {
      "cell_type": "code",
      "metadata": {
        "id": "T_4OEZTfanip",
        "colab_type": "code",
        "colab": {}
      },
      "source": [
        "def build_model(X_train):\n",
        "    model = Sequential()\n",
        "    model.add(Conv2D(256,kernel_size=(3,3), activation=\"relu\", padding=\"same\", input_shape=X_train.shape[1:]))\n",
        "    model.add(MaxPooling2D(2,2))\n",
        "    model.add(Conv2D(128,kernel_size=(3,3), activation=\"relu\", padding=\"same\"))\n",
        "    model.add(MaxPooling2D(2,2))\n",
        "    model.add(Conv2D(64,kernel_size=(3,3), activation=\"relu\", padding=\"same\"))\n",
        "    model.add(MaxPooling2D(2,2))\n",
        "    model.add(Flatten())\n",
        "    model.add(Dropout(0.5))\n",
        "    model.add(Dense(256, activation=\"relu\"))\n",
        "    model.add(Dropout(0.25))\n",
        "    model.add(Dense(256, activation=\"relu\"))\n",
        "    model.add(Dense(10, activation=\"softmax\"))\n",
        "    #model.summary()\n",
        "    \n",
        "    return model"
      ],
      "execution_count": 3,
      "outputs": []
    },
    {
      "cell_type": "code",
      "metadata": {
        "id": "LExVT_lhcc8c",
        "colab_type": "code",
        "colab": {}
      },
      "source": [
        "def plot_loss_acc():\n",
        "    test_loss, test_acc = model.evaluate(X_test, y_test)\n",
        "    val_loss = history.history[\"val_loss\"]\n",
        "    loss = history.history[\"loss\"]\n",
        "    plt.plot(val_loss, label=\"val_loss\")\n",
        "    plt.plot(loss, label=\"loss\")\n",
        "    plt.hlines(y=test_loss, xmin=0, xmax=len(val_loss), colors='r', linestyles='--')\n",
        "    plt.legend()\n",
        "    plt.show()\n",
        "    val_accuracy = history.history[\"val_accuracy\"]\n",
        "    accuracy = history.history[\"accuracy\"]\n",
        "    plt.plot(val_accuracy, label=\"val_accuracy\")\n",
        "    plt.plot(accuracy, label=\"accuracy\")\n",
        "    plt.hlines(y=test_acc, xmin=0, xmax=len(val_accuracy), colors='r', linestyles='--')\n",
        "    plt.legend()\n",
        "    plt.show()"
      ],
      "execution_count": 4,
      "outputs": []
    },
    {
      "cell_type": "code",
      "metadata": {
        "id": "IQ4N4jKFax1C",
        "colab_type": "code",
        "colab": {}
      },
      "source": [
        "#取得Keras Dataset\n",
        "(X_train, y_train), (X_test, y_test) =datasets.cifar10.load_data()\n",
        "#將像素降為0-1範圍\n",
        "X_train = (X_train/255).astype(\"float32\")\n",
        "X_test = (X_test/255).astype(\"float32\")"
      ],
      "execution_count": 5,
      "outputs": []
    },
    {
      "cell_type": "code",
      "metadata": {
        "id": "uBeb0Szla57k",
        "colab_type": "code",
        "colab": {
          "base_uri": "https://localhost:8080/",
          "height": 1000
        },
        "outputId": "396c024e-7416-4a74-8d1f-04565f760f24"
      },
      "source": [
        "## 超參數設定\n",
        "#LR = [1e-1, 1e-2, 1e-3, 1e-4, 1e-5]\n",
        "# nesterov = [False, True]\n",
        "# MOMENTUM = [0.75, 1, 1.25]\n",
        "#optimizers = [\"adagrad\", \"sgd\", \"rmsprop\", \"adam\"]\n",
        "#from itertools import product\n",
        "#drop = [0.125, 0.25, 0.5]\n",
        "from keras import regularizers\n",
        "from keras.layers import BatchNormalization\n",
        "from keras.callbacks import ModelCheckpoint, EarlyStopping, ReduceLROnPlateau\n",
        "\n",
        "val_accuracy_score = []\n",
        "accuracy_score = []\n",
        "# 以不同learning rate(LR)進行實驗\n",
        "#for i,j in product(nesterov, MOMENTUM):\n",
        "#for optimizer in optimizers:\n",
        "#L2_exp = [0.01, 0.001, 0.0001]\n",
        "# batch = [64, 256, 512]\n",
        "# for k in batch:\n",
        "    #print(i, j)\n",
        "    #print(optimizer) \n",
        "model = Sequential()\n",
        "model.add(Conv2D(64,kernel_size=(3,3), padding=\"same\", kernel_regularizer=regularizers.l2(0.001), \n",
        "                    input_shape=X_train.shape[1:]))\n",
        "model.add(BatchNormalization())\n",
        "model.add(Activation(\"relu\"))\n",
        "model.add(MaxPooling2D(2,2))\n",
        "model.add(Dropout(0.5))\n",
        "# model.add(Conv2D(128,kernel_size=(3,3), padding=\"same\", kernel_regularizer=regularizers.l2(0.001)))\n",
        "# model.add(BatchNormalization())  #BatchNormalization要放在Activation之前\n",
        "# model.add(Activation(\"relu\"))\n",
        "# model.add(MaxPooling2D(2,2))\n",
        "# model.add(Dropout(0.3))\n",
        "model.add(Flatten())\n",
        "model.add(Dense(64))\n",
        "model.add(Dropout(0.2))\n",
        "model.add(BatchNormalization())\n",
        "model.add(Dense(10, activation=\"softmax\"))  \n",
        "#model = build_model(X_train)\n",
        "#optimizer = keras.optimizers.SGD(lr=0.01, nesterov=i, momentum=j)\n",
        "optimizer = keras.optimizers.Adam(lr=0.001)\n",
        "model.compile(optimizer=optimizer, loss=\"sparse_categorical_crossentropy\", metrics=[\"accuracy\"])\n",
        "#callbacks_list = [ModelCheckpoint(filepath='test.hdf5', save_best_only=True), EarlyStopping(monitor=\"val_loss\", patience=8)]\n",
        "reduce_lr = [ReduceLROnPlateau(factor=0.5, min_lr=1e-12, monitor='val_loss', patience=7)] #lr=lr*factor\n",
        "history = model.fit(X_train, y_train, epochs=40, verbose=1, batch_size=512, validation_split=0.3, callbacks=reduce_lr)\n",
        "test_loss, test_acc = model.evaluate(X_test, y_test)\n",
        "print(\"test_loss=\", test_loss)\n",
        "print(\"test_acc=\", test_acc)\n",
        "# val_accuracy = history.history[\"val_accuracy\"]\n",
        "# accuracy = history.history[\"accuracy\"]\n",
        "# val_accuracy_score.append(val_accuracy)\n",
        "# accuracy_score.append(accuracy)\n",
        "\n"
      ],
      "execution_count": 6,
      "outputs": [
        {
          "output_type": "stream",
          "text": [
            "Train on 35000 samples, validate on 15000 samples\n",
            "Epoch 1/40\n",
            "35000/35000 [==============================] - 9s 260us/step - loss: 1.7169 - accuracy: 0.4085 - val_loss: 2.3054 - val_accuracy: 0.2667\n",
            "Epoch 2/40\n",
            "35000/35000 [==============================] - 8s 217us/step - loss: 1.3223 - accuracy: 0.5375 - val_loss: 2.2392 - val_accuracy: 0.1431\n",
            "Epoch 3/40\n",
            "35000/35000 [==============================] - 8s 217us/step - loss: 1.1994 - accuracy: 0.5805 - val_loss: 2.2080 - val_accuracy: 0.1851\n",
            "Epoch 4/40\n",
            "35000/35000 [==============================] - 8s 216us/step - loss: 1.1280 - accuracy: 0.6080 - val_loss: 2.0933 - val_accuracy: 0.1994\n",
            "Epoch 5/40\n",
            "35000/35000 [==============================] - 8s 215us/step - loss: 1.0661 - accuracy: 0.6331 - val_loss: 1.9080 - val_accuracy: 0.2919\n",
            "Epoch 6/40\n",
            "35000/35000 [==============================] - 8s 215us/step - loss: 1.0322 - accuracy: 0.6412 - val_loss: 1.6404 - val_accuracy: 0.4382\n",
            "Epoch 7/40\n",
            "35000/35000 [==============================] - 8s 216us/step - loss: 1.0042 - accuracy: 0.6539 - val_loss: 1.4131 - val_accuracy: 0.5390\n",
            "Epoch 8/40\n",
            "35000/35000 [==============================] - 8s 216us/step - loss: 0.9759 - accuracy: 0.6645 - val_loss: 1.2303 - val_accuracy: 0.5603\n",
            "Epoch 9/40\n",
            "35000/35000 [==============================] - 8s 216us/step - loss: 0.9533 - accuracy: 0.6717 - val_loss: 1.1436 - val_accuracy: 0.6066\n",
            "Epoch 10/40\n",
            "35000/35000 [==============================] - 8s 216us/step - loss: 0.9392 - accuracy: 0.6773 - val_loss: 1.1063 - val_accuracy: 0.6245\n",
            "Epoch 11/40\n",
            "35000/35000 [==============================] - 8s 216us/step - loss: 0.9262 - accuracy: 0.6824 - val_loss: 1.0688 - val_accuracy: 0.6319\n",
            "Epoch 12/40\n",
            "35000/35000 [==============================] - 8s 216us/step - loss: 0.9104 - accuracy: 0.6893 - val_loss: 1.0553 - val_accuracy: 0.6383\n",
            "Epoch 13/40\n",
            "35000/35000 [==============================] - 8s 215us/step - loss: 0.8949 - accuracy: 0.6948 - val_loss: 1.0954 - val_accuracy: 0.6307\n",
            "Epoch 14/40\n",
            "35000/35000 [==============================] - 8s 216us/step - loss: 0.8888 - accuracy: 0.6933 - val_loss: 1.0682 - val_accuracy: 0.6415\n",
            "Epoch 15/40\n",
            "35000/35000 [==============================] - 8s 215us/step - loss: 0.8725 - accuracy: 0.6992 - val_loss: 1.1205 - val_accuracy: 0.6245\n",
            "Epoch 16/40\n",
            "35000/35000 [==============================] - 8s 216us/step - loss: 0.8664 - accuracy: 0.7019 - val_loss: 1.1554 - val_accuracy: 0.6155\n",
            "Epoch 17/40\n",
            "35000/35000 [==============================] - 8s 215us/step - loss: 0.8546 - accuracy: 0.7042 - val_loss: 1.2409 - val_accuracy: 0.5969\n",
            "Epoch 18/40\n",
            "35000/35000 [==============================] - 8s 215us/step - loss: 0.8482 - accuracy: 0.7080 - val_loss: 1.1789 - val_accuracy: 0.6157\n",
            "Epoch 19/40\n",
            "35000/35000 [==============================] - 8s 216us/step - loss: 0.8501 - accuracy: 0.7072 - val_loss: 1.1971 - val_accuracy: 0.6037\n",
            "Epoch 20/40\n",
            "35000/35000 [==============================] - 8s 216us/step - loss: 0.8033 - accuracy: 0.7215 - val_loss: 1.0563 - val_accuracy: 0.6479\n",
            "Epoch 21/40\n",
            "35000/35000 [==============================] - 8s 218us/step - loss: 0.8008 - accuracy: 0.7262 - val_loss: 1.0307 - val_accuracy: 0.6496\n",
            "Epoch 22/40\n",
            "35000/35000 [==============================] - 8s 215us/step - loss: 0.7901 - accuracy: 0.7277 - val_loss: 1.0428 - val_accuracy: 0.6475\n",
            "Epoch 23/40\n",
            "35000/35000 [==============================] - 8s 215us/step - loss: 0.7861 - accuracy: 0.7291 - val_loss: 0.9964 - val_accuracy: 0.6675\n",
            "Epoch 24/40\n",
            "35000/35000 [==============================] - 8s 215us/step - loss: 0.7829 - accuracy: 0.7299 - val_loss: 1.0576 - val_accuracy: 0.6523\n",
            "Epoch 25/40\n",
            "35000/35000 [==============================] - 8s 215us/step - loss: 0.7786 - accuracy: 0.7293 - val_loss: 1.0031 - val_accuracy: 0.6672\n",
            "Epoch 26/40\n",
            "35000/35000 [==============================] - 8s 216us/step - loss: 0.7675 - accuracy: 0.7339 - val_loss: 1.1097 - val_accuracy: 0.6356\n",
            "Epoch 27/40\n",
            "35000/35000 [==============================] - 8s 218us/step - loss: 0.7638 - accuracy: 0.7358 - val_loss: 1.0609 - val_accuracy: 0.6523\n",
            "Epoch 28/40\n",
            "35000/35000 [==============================] - 8s 215us/step - loss: 0.7652 - accuracy: 0.7376 - val_loss: 1.1441 - val_accuracy: 0.6271\n",
            "Epoch 29/40\n",
            "35000/35000 [==============================] - 8s 217us/step - loss: 0.7571 - accuracy: 0.7409 - val_loss: 1.0835 - val_accuracy: 0.6424\n",
            "Epoch 30/40\n",
            "35000/35000 [==============================] - 8s 216us/step - loss: 0.7545 - accuracy: 0.7389 - val_loss: 1.0263 - val_accuracy: 0.6577\n",
            "Epoch 31/40\n",
            "35000/35000 [==============================] - 8s 215us/step - loss: 0.7383 - accuracy: 0.7466 - val_loss: 0.9851 - val_accuracy: 0.6750\n",
            "Epoch 32/40\n",
            "35000/35000 [==============================] - 8s 216us/step - loss: 0.7271 - accuracy: 0.7478 - val_loss: 1.0737 - val_accuracy: 0.6524\n",
            "Epoch 33/40\n",
            "35000/35000 [==============================] - 8s 216us/step - loss: 0.7294 - accuracy: 0.7483 - val_loss: 1.0247 - val_accuracy: 0.6657\n",
            "Epoch 34/40\n",
            "35000/35000 [==============================] - 8s 224us/step - loss: 0.7275 - accuracy: 0.7504 - val_loss: 1.0355 - val_accuracy: 0.6612\n",
            "Epoch 35/40\n",
            "35000/35000 [==============================] - 8s 219us/step - loss: 0.7246 - accuracy: 0.7490 - val_loss: 0.9806 - val_accuracy: 0.6776\n",
            "Epoch 36/40\n",
            "35000/35000 [==============================] - 8s 218us/step - loss: 0.7244 - accuracy: 0.7502 - val_loss: 1.0220 - val_accuracy: 0.6651\n",
            "Epoch 37/40\n",
            "35000/35000 [==============================] - 8s 217us/step - loss: 0.7238 - accuracy: 0.7484 - val_loss: 1.0005 - val_accuracy: 0.6680\n",
            "Epoch 38/40\n",
            "35000/35000 [==============================] - 8s 217us/step - loss: 0.7201 - accuracy: 0.7496 - val_loss: 1.0901 - val_accuracy: 0.6463\n",
            "Epoch 39/40\n",
            "35000/35000 [==============================] - 8s 217us/step - loss: 0.7122 - accuracy: 0.7535 - val_loss: 0.9851 - val_accuracy: 0.6757\n",
            "Epoch 40/40\n",
            "35000/35000 [==============================] - 8s 218us/step - loss: 0.7141 - accuracy: 0.7528 - val_loss: 1.0284 - val_accuracy: 0.6629\n",
            "10000/10000 [==============================] - 1s 144us/step\n",
            "test_loss= 1.0289856139183045\n",
            "test_acc= 0.6621000170707703\n"
          ],
          "name": "stdout"
        }
      ]
    },
    {
      "cell_type": "code",
      "metadata": {
        "id": "SmqQaibNNpnu",
        "colab_type": "code",
        "colab": {
          "base_uri": "https://localhost:8080/",
          "height": 583
        },
        "outputId": "d6992034-6517-46b9-8d9a-d80b7035a685"
      },
      "source": [
        "from keras.models import load_model\n",
        "plot_loss_acc()\n",
        "model = load_model('test.hdf5')\n",
        "test_loss, test_acc = model.evaluate(X_test, y_test)\n",
        "print(\"test_loss=\", test_loss)\n",
        "print(\"test_acc=\", test_acc)"
      ],
      "execution_count": 7,
      "outputs": [
        {
          "output_type": "stream",
          "text": [
            "10000/10000 [==============================] - 1s 143us/step\n"
          ],
          "name": "stdout"
        },
        {
          "output_type": "display_data",
          "data": {
            "image/png": "[encoded data removed]",
            "text/plain": [
              "<Figure size 432x288 with 1 Axes>"
            ]
          },
          "metadata": {
            "tags": [],
            "needs_background": "light"
          }
        },
        {
          "output_type": "display_data",
          "data": {
            "image/png": "[encoded data removed]",
            "text/plain": [
              "<Figure size 432x288 with 1 Axes>"
            ]
          },
          "metadata": {
            "tags": [],
            "needs_background": "light"
          }
        },
        {
          "output_type": "stream",
          "text": [
            "10000/10000 [==============================] - 2s 163us/step\n",
            "test_loss= 1.0582949165344238\n",
            "test_acc= 0.6412000060081482\n"
          ],
          "name": "stdout"
        }
      ]
    },
    {
      "cell_type": "code",
      "metadata": {
        "id": "3myXG9tMesIx",
        "colab_type": "code",
        "colab": {}
      },
      "source": [
        "#labels = [(False, 0.75), (False, 1.0), (False, 1.25), (True, 0.75), (True, 1.0), (True, 1.25)]\n",
        "#labels = [\"adagrad\", \"sgd\", \"rmsprop\", \"adam\"]\n",
        "#L2_exp = [0.01, 0.001, 0.0001]\n",
        "#drop = [0.125, 0.25, 0.5]\n",
        "# batch = [64, 256, 512]\n",
        "# plt.figure(figsize=(15,10))\n",
        "# for i in range(3):\n",
        "#     plt.plot(val_accuracy_score[i], \"-\", label=batch[i])\n",
        "#     plt.plot(accuracy_score[i], \"--\", label=batch[i])\n",
        "# plt.legend()\n",
        "# plt.title(\"Accuracy\")\n",
        "# plt.show()"
      ],
      "execution_count": 8,
      "outputs": []
    },
    {
      "cell_type": "code",
      "metadata": {
        "id": "Rb9gqggHtDvy",
        "colab_type": "code",
        "colab": {}
      },
      "source": [
        "# momentum >= 1, 會造成整體accuracy, val_accuracy在震盪後都大幅降低\n",
        "# nesterov 正負不影響結果"
      ],
      "execution_count": 9,
      "outputs": []
    },
    {
      "cell_type": "code",
      "metadata": {
        "id": "kMFO_blV78pA",
        "colab_type": "code",
        "colab": {}
      },
      "source": [
        "#Adam的表現在預設的參數之下表現最好"
      ],
      "execution_count": 10,
      "outputs": []
    },
    {
      "cell_type": "code",
      "metadata": {
        "id": "RICiJj6qBhtO",
        "colab_type": "code",
        "colab": {}
      },
      "source": [
        "#L2值越大，會更不容易overfitting，約L2 = 0.001較好"
      ],
      "execution_count": 11,
      "outputs": []
    },
    {
      "cell_type": "code",
      "metadata": {
        "id": "qdQgM5uXOpB2",
        "colab_type": "code",
        "colab": {}
      },
      "source": [
        "#Dropout rate 在0.125時，有點overfiting，在0.25的時候train set 與val set的accuracy看起來很不錯，在0.5的時候有underfitting"
      ],
      "execution_count": 12,
      "outputs": []
    },
    {
      "cell_type": "code",
      "metadata": {
        "id": "8MgywFP9jGFE",
        "colab_type": "code",
        "colab": {}
      },
      "source": [
        "#batch size越小，收斂速度可能會越快64>256>512，但最後accuracy差異不大"
      ],
      "execution_count": 13,
      "outputs": []
    }
  ]
}