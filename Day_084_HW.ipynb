{
  "nbformat": 4,
  "nbformat_minor": 0,
  "metadata": {
    "colab": {
      "name": "Day_079_HW.ipynb",
      "provenance": [],
      "collapsed_sections": [],
      "authorship_tag": "ABX9TyOhQI/O9m6w893V2AOeB/c6",
      "include_colab_link": true
    },
    "kernelspec": {
      "name": "python3",
      "display_name": "Python 3"
    },
    "accelerator": "GPU"
  },
  "cells": [
    {
      "cell_type": "markdown",
      "metadata": {
        "id": "view-in-github",
        "colab_type": "text"
      },
      "source": [
        "<a href=\"https://colab.research.google.com/github/popogeee/100Day_ML/blob/master/Day_084_HW.ipynb\" target=\"_parent\"><img src=\"https://colab.research.google.com/assets/colab-badge.svg\" alt=\"Open In Colab\"/></a>"
      ]
    },
    {
      "cell_type": "code",
      "metadata": {
        "id": "yqsXjUH_aNXO",
        "colab_type": "code",
        "colab": {
          "base_uri": "https://localhost:8080/",
          "height": 369
        },
        "outputId": "1763d5e0-860b-4c3a-cf3e-277d4bb0997b"
      },
      "source": [
        "!nvidia-smi"
      ],
      "execution_count": 1,
      "outputs": [
        {
          "output_type": "stream",
          "text": [
            "Wed Jul 15 13:10:38 2020       \n",
            "+-----------------------------------------------------------------------------+\n",
            "| NVIDIA-SMI 450.51.05    Driver Version: 418.67       CUDA Version: 10.1     |\n",
            "|-------------------------------+----------------------+----------------------+\n",
            "| GPU  Name        Persistence-M| Bus-Id        Disp.A | Volatile Uncorr. ECC |\n",
            "| Fan  Temp  Perf  Pwr:Usage/Cap|         Memory-Usage | GPU-Util  Compute M. |\n",
            "|                               |                      |               MIG M. |\n",
            "|===============================+======================+======================|\n",
            "|   0  Tesla K80           Off  | 00000000:00:04.0 Off |                    0 |\n",
            "| N/A   73C    P0    91W / 149W |      0MiB / 11441MiB |      0%      Default |\n",
            "|                               |                      |                 ERR! |\n",
            "+-------------------------------+----------------------+----------------------+\n",
            "                                                                               \n",
            "+-----------------------------------------------------------------------------+\n",
            "| Processes:                                                                  |\n",
            "|  GPU   GI   CI        PID   Type   Process name                  GPU Memory |\n",
            "|        ID   ID                                                   Usage      |\n",
            "|=============================================================================|\n",
            "|  No running processes found                                                 |\n",
            "+-----------------------------------------------------------------------------+\n"
          ],
          "name": "stdout"
        }
      ]
    },
    {
      "cell_type": "code",
      "metadata": {
        "id": "MA6URoeraQS0",
        "colab_type": "code",
        "colab": {
          "base_uri": "https://localhost:8080/",
          "height": 34
        },
        "outputId": "bd736cfc-9591-423f-f6d1-7f8381c04658"
      },
      "source": [
        "from keras import datasets\n",
        "import keras\n",
        "import numpy as np\n",
        "import pandas as pd\n",
        "import matplotlib.pyplot as plt\n",
        "from keras.models import Sequential\n",
        "from keras.layers import Dense, Dropout, Flatten, Conv2D, MaxPooling2D, Activation"
      ],
      "execution_count": 2,
      "outputs": [
        {
          "output_type": "stream",
          "text": [
            "Using TensorFlow backend.\n"
          ],
          "name": "stderr"
        }
      ]
    },
    {
      "cell_type": "code",
      "metadata": {
        "id": "T_4OEZTfanip",
        "colab_type": "code",
        "colab": {}
      },
      "source": [
        "def build_model(X_train):\n",
        "    model = Sequential()\n",
        "    model.add(Conv2D(256,kernel_size=(3,3), activation=\"relu\", padding=\"same\", input_shape=X_train.shape[1:]))\n",
        "    model.add(MaxPooling2D(2,2))\n",
        "    model.add(Conv2D(128,kernel_size=(3,3), activation=\"relu\", padding=\"same\"))\n",
        "    model.add(MaxPooling2D(2,2))\n",
        "    model.add(Conv2D(64,kernel_size=(3,3), activation=\"relu\", padding=\"same\"))\n",
        "    model.add(MaxPooling2D(2,2))\n",
        "    model.add(Flatten())\n",
        "    model.add(Dropout(0.5))\n",
        "    model.add(Dense(256, activation=\"relu\"))\n",
        "    model.add(Dropout(0.25))\n",
        "    model.add(Dense(256, activation=\"relu\"))\n",
        "    model.add(Dense(10, activation=\"softmax\"))\n",
        "    #model.summary()\n",
        "    \n",
        "    return model"
      ],
      "execution_count": 3,
      "outputs": []
    },
    {
      "cell_type": "code",
      "metadata": {
        "id": "LExVT_lhcc8c",
        "colab_type": "code",
        "colab": {}
      },
      "source": [
        "def plot_loss_acc():\n",
        "    val_loss = history.history[\"val_loss\"]\n",
        "    loss = history.history[\"loss\"]\n",
        "    plt.plot(val_loss, label=\"val_loss\")\n",
        "    plt.plot(loss, label=\"loss\")\n",
        "    plt.legend()\n",
        "    plt.show()\n",
        "    val_accuracy = history.history[\"val_accuracy\"]\n",
        "    accuracy = history.history[\"accuracy\"]\n",
        "    plt.plot(val_accuracy, label=\"val_accuracy\")\n",
        "    plt.plot(accuracy, label=\"accuracy\")\n",
        "    plt.legend()\n",
        "    plt.show()"
      ],
      "execution_count": 4,
      "outputs": []
    },
    {
      "cell_type": "code",
      "metadata": {
        "id": "IQ4N4jKFax1C",
        "colab_type": "code",
        "colab": {}
      },
      "source": [
        "#取得Keras Dataset\n",
        "(X_train, y_train), (X_test, y_test) =datasets.cifar10.load_data()\n",
        "#將像素降為0-1範圍\n",
        "X_train = (X_train/255).astype(\"float32\")\n",
        "X_test = (X_test/255).astype(\"float32\")\n"
      ],
      "execution_count": 5,
      "outputs": []
    },
    {
      "cell_type": "code",
      "metadata": {
        "id": "uBeb0Szla57k",
        "colab_type": "code",
        "colab": {
          "base_uri": "https://localhost:8080/",
          "height": 1000
        },
        "outputId": "8b5673f0-8fda-4da1-f5fd-da8e5ba348d2"
      },
      "source": [
        "## 超參數設定\n",
        "#LR = [1e-1, 1e-2, 1e-3, 1e-4, 1e-5]\n",
        "# nesterov = [False, True]\n",
        "# MOMENTUM = [0.75, 1, 1.25]\n",
        "#optimizers = [\"adagrad\", \"sgd\", \"rmsprop\", \"adam\"]\n",
        "#from itertools import product\n",
        "#drop = [0.125, 0.25, 0.5]\n",
        "from keras import regularizers\n",
        "from keras.layers import BatchNormalization\n",
        "val_accuracy_score = []\n",
        "accuracy_score = []\n",
        "# 以不同learning rate(LR)進行實驗\n",
        "#for i,j in product(nesterov, MOMENTUM):\n",
        "#for optimizer in optimizers:\n",
        "#L2_exp = [0.01, 0.001, 0.0001]\n",
        "# batch = [64, 256, 512]\n",
        "# for k in batch:\n",
        "    #print(i, j)\n",
        "    #print(optimizer) \n",
        "model = Sequential()\n",
        "model.add(Conv2D(512,kernel_size=(3,3), padding=\"same\", kernel_regularizer=regularizers.l2(0.001), \n",
        "                    input_shape=X_train.shape[1:]))\n",
        "model.add(BatchNormalization())\n",
        "model.add(Activation(\"relu\"))\n",
        "model.add(MaxPooling2D(2,2))\n",
        "model.add(Dropout(0.5))\n",
        "model.add(Conv2D(256,kernel_size=(3,3), padding=\"same\", kernel_regularizer=regularizers.l2(0.001)))\n",
        "model.add(BatchNormalization())  #BatchNormalization要放在Activation之前\n",
        "model.add(Activation(\"relu\"))\n",
        "model.add(MaxPooling2D(2,2))\n",
        "model.add(Dropout(0.5))\n",
        "model.add(Conv2D(128,kernel_size=(3,3), padding=\"same\", kernel_regularizer=regularizers.l2(0.001)))\n",
        "model.add(BatchNormalization())  #BatchNormalization要放在Activation之前\n",
        "model.add(Activation(\"relu\"))\n",
        "model.add(MaxPooling2D(2,2))\n",
        "model.add(Dropout(0.3))\n",
        "model.add(Flatten())\n",
        "model.add(Dense(64))\n",
        "model.add(BatchNormalization())\n",
        "model.add(Activation(\"relu\"))\n",
        "model.add(Dropout(0.2))\n",
        "model.add(Dense(128))\n",
        "model.add(BatchNormalization())\n",
        "model.add(Dense(10, activation=\"softmax\"))  \n",
        "#model = build_model(X_train)\n",
        "#optimizer = keras.optimizers.SGD(lr=0.01, nesterov=i, momentum=j)\n",
        "model.compile(optimizer=\"adam\", loss=\"sparse_categorical_crossentropy\", metrics=[\"accuracy\"])\n",
        "history = model.fit(X_train, y_train, epochs=30, verbose=1, batch_size=256, validation_split=0.3)\n",
        "test_loss, test_acc = model.evaluate(X_test, y_test)\n",
        "print(\"test_loss=\", test_loss)\n",
        "print(\"test_acc=\", test_acc)\n",
        "# val_accuracy = history.history[\"val_accuracy\"]\n",
        "# accuracy = history.history[\"accuracy\"]\n",
        "# val_accuracy_score.append(val_accuracy)\n",
        "# accuracy_score.append(accuracy)\n",
        "\n",
        "plot_loss_acc() "
      ],
      "execution_count": 6,
      "outputs": [
        {
          "output_type": "stream",
          "text": [
            "Train on 35000 samples, validate on 15000 samples\n",
            "Epoch 1/30\n",
            "35000/35000 [==============================] - 78s 2ms/step - loss: 2.1865 - accuracy: 0.3928 - val_loss: 3.6842 - val_accuracy: 0.0979\n",
            "Epoch 2/30\n",
            "35000/35000 [==============================] - 72s 2ms/step - loss: 1.6986 - accuracy: 0.5180 - val_loss: 3.8250 - val_accuracy: 0.0979\n",
            "Epoch 3/30\n",
            "35000/35000 [==============================] - 72s 2ms/step - loss: 1.4541 - accuracy: 0.5845 - val_loss: 3.5353 - val_accuracy: 0.1389\n",
            "Epoch 4/30\n",
            "35000/35000 [==============================] - 72s 2ms/step - loss: 1.3119 - accuracy: 0.6249 - val_loss: 1.6034 - val_accuracy: 0.5097\n",
            "Epoch 5/30\n",
            "35000/35000 [==============================] - 72s 2ms/step - loss: 1.2234 - accuracy: 0.6515 - val_loss: 1.4609 - val_accuracy: 0.5575\n",
            "Epoch 6/30\n",
            "35000/35000 [==============================] - 72s 2ms/step - loss: 1.1586 - accuracy: 0.6749 - val_loss: 1.6398 - val_accuracy: 0.5451\n",
            "Epoch 7/30\n",
            "35000/35000 [==============================] - 72s 2ms/step - loss: 1.1293 - accuracy: 0.6845 - val_loss: 1.5521 - val_accuracy: 0.5676\n",
            "Epoch 8/30\n",
            "35000/35000 [==============================] - 72s 2ms/step - loss: 1.0975 - accuracy: 0.6984 - val_loss: 1.3238 - val_accuracy: 0.6093\n",
            "Epoch 9/30\n",
            "35000/35000 [==============================] - 72s 2ms/step - loss: 1.0837 - accuracy: 0.7036 - val_loss: 1.3719 - val_accuracy: 0.6037\n",
            "Epoch 10/30\n",
            "35000/35000 [==============================] - 72s 2ms/step - loss: 1.0727 - accuracy: 0.7118 - val_loss: 1.3233 - val_accuracy: 0.6603\n",
            "Epoch 11/30\n",
            "35000/35000 [==============================] - 72s 2ms/step - loss: 1.0470 - accuracy: 0.7230 - val_loss: 1.5911 - val_accuracy: 0.5740\n",
            "Epoch 12/30\n",
            "35000/35000 [==============================] - 72s 2ms/step - loss: 1.0450 - accuracy: 0.7254 - val_loss: 1.5122 - val_accuracy: 0.5971\n",
            "Epoch 13/30\n",
            "35000/35000 [==============================] - 72s 2ms/step - loss: 1.0290 - accuracy: 0.7343 - val_loss: 1.2286 - val_accuracy: 0.6685\n",
            "Epoch 14/30\n",
            "35000/35000 [==============================] - 72s 2ms/step - loss: 1.0105 - accuracy: 0.7414 - val_loss: 1.2055 - val_accuracy: 0.6798\n",
            "Epoch 15/30\n",
            "35000/35000 [==============================] - 72s 2ms/step - loss: 1.0182 - accuracy: 0.7403 - val_loss: 1.4224 - val_accuracy: 0.6184\n",
            "Epoch 16/30\n",
            "35000/35000 [==============================] - 72s 2ms/step - loss: 1.0069 - accuracy: 0.7438 - val_loss: 1.4694 - val_accuracy: 0.6320\n",
            "Epoch 17/30\n",
            "35000/35000 [==============================] - 72s 2ms/step - loss: 1.0029 - accuracy: 0.7524 - val_loss: 1.3283 - val_accuracy: 0.6608\n",
            "Epoch 18/30\n",
            "35000/35000 [==============================] - 72s 2ms/step - loss: 0.9890 - accuracy: 0.7575 - val_loss: 1.7204 - val_accuracy: 0.5668\n",
            "Epoch 19/30\n",
            "35000/35000 [==============================] - 72s 2ms/step - loss: 0.9957 - accuracy: 0.7550 - val_loss: 1.5443 - val_accuracy: 0.6003\n",
            "Epoch 20/30\n",
            "35000/35000 [==============================] - 72s 2ms/step - loss: 0.9843 - accuracy: 0.7629 - val_loss: 1.9186 - val_accuracy: 0.5234\n",
            "Epoch 21/30\n",
            "35000/35000 [==============================] - 72s 2ms/step - loss: 0.9847 - accuracy: 0.7623 - val_loss: 2.1340 - val_accuracy: 0.4789\n",
            "Epoch 22/30\n",
            "35000/35000 [==============================] - 72s 2ms/step - loss: 0.9726 - accuracy: 0.7687 - val_loss: 1.6057 - val_accuracy: 0.5937\n",
            "Epoch 23/30\n",
            "35000/35000 [==============================] - 72s 2ms/step - loss: 0.9631 - accuracy: 0.7704 - val_loss: 1.2341 - val_accuracy: 0.6843\n",
            "Epoch 24/30\n",
            "35000/35000 [==============================] - 72s 2ms/step - loss: 0.9731 - accuracy: 0.7723 - val_loss: 1.3706 - val_accuracy: 0.6485\n",
            "Epoch 25/30\n",
            "35000/35000 [==============================] - 72s 2ms/step - loss: 0.9593 - accuracy: 0.7760 - val_loss: 1.1365 - val_accuracy: 0.7215\n",
            "Epoch 26/30\n",
            "35000/35000 [==============================] - 72s 2ms/step - loss: 0.9684 - accuracy: 0.7755 - val_loss: 1.3003 - val_accuracy: 0.6793\n",
            "Epoch 27/30\n",
            "35000/35000 [==============================] - 72s 2ms/step - loss: 0.9636 - accuracy: 0.7767 - val_loss: 1.2867 - val_accuracy: 0.6773\n",
            "Epoch 28/30\n",
            "35000/35000 [==============================] - 72s 2ms/step - loss: 0.9590 - accuracy: 0.7813 - val_loss: 1.3516 - val_accuracy: 0.6715\n",
            "Epoch 29/30\n",
            "35000/35000 [==============================] - 72s 2ms/step - loss: 0.9530 - accuracy: 0.7836 - val_loss: 1.2174 - val_accuracy: 0.7019\n",
            "Epoch 30/30\n",
            "35000/35000 [==============================] - 72s 2ms/step - loss: 0.9584 - accuracy: 0.7833 - val_loss: 1.3759 - val_accuracy: 0.6577\n",
            "10000/10000 [==============================] - 7s 676us/step\n",
            "test_loss= 1.3793008670806886\n",
            "test_acc= 0.6554999947547913\n"
          ],
          "name": "stdout"
        },
        {
          "output_type": "display_data",
          "data": {
            "image/png": "[encoded data removed]",
            "text/plain": [
              "<Figure size 432x288 with 1 Axes>"
            ]
          },
          "metadata": {
            "tags": [],
            "needs_background": "light"
          }
        },
        {
          "output_type": "display_data",
          "data": {
            "image/png": "[encoded data removed]",
            "text/plain": [
              "<Figure size 432x288 with 1 Axes>"
            ]
          },
          "metadata": {
            "tags": [],
            "needs_background": "light"
          }
        }
      ]
    },
    {
      "cell_type": "code",
      "metadata": {
        "id": "3myXG9tMesIx",
        "colab_type": "code",
        "colab": {}
      },
      "source": [
        "#labels = [(False, 0.75), (False, 1.0), (False, 1.25), (True, 0.75), (True, 1.0), (True, 1.25)]\n",
        "#labels = [\"adagrad\", \"sgd\", \"rmsprop\", \"adam\"]\n",
        "#L2_exp = [0.01, 0.001, 0.0001]\n",
        "#drop = [0.125, 0.25, 0.5]\n",
        "# batch = [64, 256, 512]\n",
        "# plt.figure(figsize=(15,10))\n",
        "# for i in range(3):\n",
        "#     plt.plot(val_accuracy_score[i], \"-\", label=batch[i])\n",
        "#     plt.plot(accuracy_score[i], \"--\", label=batch[i])\n",
        "# plt.legend()\n",
        "# plt.title(\"Accuracy\")\n",
        "# plt.show()"
      ],
      "execution_count": 7,
      "outputs": []
    },
    {
      "cell_type": "code",
      "metadata": {
        "id": "Rb9gqggHtDvy",
        "colab_type": "code",
        "colab": {}
      },
      "source": [
        "# momentum >= 1, 會造成整體accuracy, val_accuracy在震盪後都大幅降低\n",
        "# nesterov 正負不影響結果"
      ],
      "execution_count": 8,
      "outputs": []
    },
    {
      "cell_type": "code",
      "metadata": {
        "id": "kMFO_blV78pA",
        "colab_type": "code",
        "colab": {}
      },
      "source": [
        "#Adam的表現在預設的參數之下表現最好"
      ],
      "execution_count": 9,
      "outputs": []
    },
    {
      "cell_type": "code",
      "metadata": {
        "id": "RICiJj6qBhtO",
        "colab_type": "code",
        "colab": {}
      },
      "source": [
        "#L2值越大，會更不容易overfitting，約L2 = 0.001較好"
      ],
      "execution_count": 10,
      "outputs": []
    },
    {
      "cell_type": "code",
      "metadata": {
        "id": "qdQgM5uXOpB2",
        "colab_type": "code",
        "colab": {}
      },
      "source": [
        "#Dropout rate 在0.125時，有點overfiting，在0.25的時候train set 與val set的accuracy看起來很不錯，在0.5的時候有underfitting"
      ],
      "execution_count": 11,
      "outputs": []
    },
    {
      "cell_type": "code",
      "metadata": {
        "id": "8MgywFP9jGFE",
        "colab_type": "code",
        "colab": {}
      },
      "source": [
        "#batch size越小，收斂速度可能會越快64>256>512，但最後accuracy差異不大"
      ],
      "execution_count": 12,
      "outputs": []
    }
  ]
}