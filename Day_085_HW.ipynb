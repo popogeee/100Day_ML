{
  "nbformat": 4,
  "nbformat_minor": 0,
  "metadata": {
    "colab": {
      "name": "cifar10_para_setup.ipynb",
      "provenance": [],
      "collapsed_sections": [],
      "authorship_tag": "ABX9TyP3AKQBLoeFld+eHujJNoKz",
      "include_colab_link": true
    },
    "kernelspec": {
      "name": "python3",
      "display_name": "Python 3"
    },
    "accelerator": "GPU"
  },
  "cells": [
    {
      "cell_type": "markdown",
      "metadata": {
        "id": "view-in-github",
        "colab_type": "text"
      },
      "source": [
        "<a href=\"https://colab.research.google.com/github/popogeee/100Day_ML/blob/master/Day_085_HW.ipynb\" target=\"_parent\"><img src=\"https://colab.research.google.com/assets/colab-badge.svg\" alt=\"Open In Colab\"/></a>"
      ]
    },
    {
      "cell_type": "code",
      "metadata": {
        "id": "yqsXjUH_aNXO",
        "colab_type": "code",
        "colab": {
          "base_uri": "https://localhost:8080/",
          "height": 369
        },
        "outputId": "1409c3b8-b80e-4aed-e418-42058c62d44c"
      },
      "source": [
        "!nvidia-smi"
      ],
      "execution_count": 1,
      "outputs": [
        {
          "output_type": "stream",
          "text": [
            "Thu Jul 16 14:59:46 2020       \n",
            "+-----------------------------------------------------------------------------+\n",
            "| NVIDIA-SMI 450.51.05    Driver Version: 418.67       CUDA Version: 10.1     |\n",
            "|-------------------------------+----------------------+----------------------+\n",
            "| GPU  Name        Persistence-M| Bus-Id        Disp.A | Volatile Uncorr. ECC |\n",
            "| Fan  Temp  Perf  Pwr:Usage/Cap|         Memory-Usage | GPU-Util  Compute M. |\n",
            "|                               |                      |               MIG M. |\n",
            "|===============================+======================+======================|\n",
            "|   0  Tesla K80           Off  | 00000000:00:04.0 Off |                    0 |\n",
            "| N/A   67C    P0    76W / 149W |      0MiB / 11441MiB |      0%      Default |\n",
            "|                               |                      |                 ERR! |\n",
            "+-------------------------------+----------------------+----------------------+\n",
            "                                                                               \n",
            "+-----------------------------------------------------------------------------+\n",
            "| Processes:                                                                  |\n",
            "|  GPU   GI   CI        PID   Type   Process name                  GPU Memory |\n",
            "|        ID   ID                                                   Usage      |\n",
            "|=============================================================================|\n",
            "|  No running processes found                                                 |\n",
            "+-----------------------------------------------------------------------------+\n"
          ],
          "name": "stdout"
        }
      ]
    },
    {
      "cell_type": "code",
      "metadata": {
        "id": "MA6URoeraQS0",
        "colab_type": "code",
        "colab": {
          "base_uri": "https://localhost:8080/",
          "height": 34
        },
        "outputId": "b9e69742-ad48-458c-a61e-bd8d805e479b"
      },
      "source": [
        "from keras import datasets\n",
        "import keras\n",
        "import numpy as np\n",
        "import pandas as pd\n",
        "import matplotlib.pyplot as plt\n",
        "from keras.models import Sequential\n",
        "from keras.layers import Dense, Dropout, Flatten, Conv2D, MaxPooling2D, Activation"
      ],
      "execution_count": 2,
      "outputs": [
        {
          "output_type": "stream",
          "text": [
            "Using TensorFlow backend.\n"
          ],
          "name": "stderr"
        }
      ]
    },
    {
      "cell_type": "code",
      "metadata": {
        "id": "T_4OEZTfanip",
        "colab_type": "code",
        "colab": {}
      },
      "source": [
        "def build_model(X_train):\n",
        "    model = Sequential()\n",
        "    model.add(Conv2D(256,kernel_size=(3,3), activation=\"relu\", padding=\"same\", input_shape=X_train.shape[1:]))\n",
        "    model.add(MaxPooling2D(2,2))\n",
        "    model.add(Conv2D(128,kernel_size=(3,3), activation=\"relu\", padding=\"same\"))\n",
        "    model.add(MaxPooling2D(2,2))\n",
        "    model.add(Conv2D(64,kernel_size=(3,3), activation=\"relu\", padding=\"same\"))\n",
        "    model.add(MaxPooling2D(2,2))\n",
        "    model.add(Flatten())\n",
        "    model.add(Dropout(0.5))\n",
        "    model.add(Dense(256, activation=\"relu\"))\n",
        "    model.add(Dropout(0.25))\n",
        "    model.add(Dense(256, activation=\"relu\"))\n",
        "    model.add(Dense(10, activation=\"softmax\"))\n",
        "    #model.summary()\n",
        "    \n",
        "    return model"
      ],
      "execution_count": 3,
      "outputs": []
    },
    {
      "cell_type": "code",
      "metadata": {
        "id": "LExVT_lhcc8c",
        "colab_type": "code",
        "colab": {}
      },
      "source": [
        "def plot_loss_acc():\n",
        "    val_loss = history.history[\"val_loss\"]\n",
        "    loss = history.history[\"loss\"]\n",
        "    plt.plot(val_loss, label=\"val_loss\")\n",
        "    plt.plot(loss, label=\"loss\")\n",
        "    plt.legend()\n",
        "    plt.show()\n",
        "    val_accuracy = history.history[\"val_accuracy\"]\n",
        "    accuracy = history.history[\"accuracy\"]\n",
        "    plt.plot(val_accuracy, label=\"val_accuracy\")\n",
        "    plt.plot(accuracy, label=\"accuracy\")\n",
        "    plt.legend()\n",
        "    plt.show()"
      ],
      "execution_count": 4,
      "outputs": []
    },
    {
      "cell_type": "code",
      "metadata": {
        "id": "IQ4N4jKFax1C",
        "colab_type": "code",
        "colab": {}
      },
      "source": [
        "#取得Keras Dataset\n",
        "(X_train, y_train), (X_test, y_test) =datasets.cifar10.load_data()\n",
        "#將像素降為0-1範圍\n",
        "X_train = (X_train/255).astype(\"float32\")\n",
        "X_test = (X_test/255).astype(\"float32\")"
      ],
      "execution_count": 5,
      "outputs": []
    },
    {
      "cell_type": "code",
      "metadata": {
        "id": "uBeb0Szla57k",
        "colab_type": "code",
        "colab": {
          "base_uri": "https://localhost:8080/",
          "height": 1000
        },
        "outputId": "b5d624e4-9716-45c2-9b22-82550042e1ba"
      },
      "source": [
        "## 超參數設定\n",
        "#LR = [1e-1, 1e-2, 1e-3, 1e-4, 1e-5]\n",
        "# nesterov = [False, True]\n",
        "# MOMENTUM = [0.75, 1, 1.25]\n",
        "#optimizers = [\"adagrad\", \"sgd\", \"rmsprop\", \"adam\"]\n",
        "#from itertools import product\n",
        "#drop = [0.125, 0.25, 0.5]\n",
        "from keras import regularizers\n",
        "from keras.layers import BatchNormalization\n",
        "from keras.callbacks import ModelCheckpoint, EarlyStopping\n",
        "val_accuracy_score = []\n",
        "accuracy_score = []\n",
        "# 以不同learning rate(LR)進行實驗\n",
        "#for i,j in product(nesterov, MOMENTUM):\n",
        "#for optimizer in optimizers:\n",
        "#L2_exp = [0.01, 0.001, 0.0001]\n",
        "# batch = [64, 256, 512]\n",
        "# for k in batch:\n",
        "    #print(i, j)\n",
        "    #print(optimizer) \n",
        "model = Sequential()\n",
        "model.add(Conv2D(128,kernel_size=(3,3), padding=\"same\", kernel_regularizer=regularizers.l2(0.001), \n",
        "                    input_shape=X_train.shape[1:]))\n",
        "model.add(BatchNormalization())\n",
        "model.add(Activation(\"relu\"))\n",
        "model.add(MaxPooling2D(2,2))\n",
        "model.add(Dropout(0.5))\n",
        "model.add(Conv2D(128,kernel_size=(3,3), padding=\"same\", kernel_regularizer=regularizers.l2(0.001)))\n",
        "model.add(BatchNormalization())  #BatchNormalization要放在Activation之前\n",
        "model.add(Activation(\"relu\"))\n",
        "model.add(MaxPooling2D(2,2))\n",
        "model.add(Dropout(0.5))\n",
        "model.add(Flatten())\n",
        "model.add(Dense(128))\n",
        "model.add(BatchNormalization())\n",
        "model.add(Dense(10, activation=\"softmax\"))  \n",
        "#model = build_model(X_train)\n",
        "#optimizer = keras.optimizers.SGD(lr=0.01, nesterov=i, momentum=j)\n",
        "model.compile(optimizer=\"adam\", loss=\"sparse_categorical_crossentropy\", metrics=[\"accuracy\"])\n",
        "callbacks_list = [ModelCheckpoint(filepath='test.hdf5', save_best_only=True), EarlyStopping(monitor=\"val_accuracy\", patience=3)]\n",
        "history = model.fit(X_train, y_train, epochs=30, verbose=1, batch_size=512, validation_split=0.3, callbacks=callbacks_list)\n",
        "test_loss, test_acc = model.evaluate(X_test, y_test)\n",
        "print(\"test_loss=\", test_loss)\n",
        "print(\"test_acc=\", test_acc)\n",
        "# val_accuracy = history.history[\"val_accuracy\"]\n",
        "# accuracy = history.history[\"accuracy\"]\n",
        "# val_accuracy_score.append(val_accuracy)\n",
        "# accuracy_score.append(accuracy)\n",
        "\n",
        "plot_loss_acc() "
      ],
      "execution_count": 6,
      "outputs": [
        {
          "output_type": "stream",
          "text": [
            "Train on 35000 samples, validate on 15000 samples\n",
            "Epoch 1/30\n",
            "35000/35000 [==============================] - 22s 630us/step - loss: 1.8064 - accuracy: 0.4233 - val_loss: 3.1604 - val_accuracy: 0.0979\n",
            "Epoch 2/30\n",
            "35000/35000 [==============================] - 20s 562us/step - loss: 1.4130 - accuracy: 0.5448 - val_loss: 3.8930 - val_accuracy: 0.0979\n",
            "Epoch 3/30\n",
            "35000/35000 [==============================] - 20s 561us/step - loss: 1.2711 - accuracy: 0.5927 - val_loss: 4.3109 - val_accuracy: 0.0979\n",
            "Epoch 4/30\n",
            "35000/35000 [==============================] - 20s 562us/step - loss: 1.1698 - accuracy: 0.6249 - val_loss: 3.8288 - val_accuracy: 0.1024\n",
            "Epoch 5/30\n",
            "35000/35000 [==============================] - 20s 560us/step - loss: 1.1054 - accuracy: 0.6457 - val_loss: 3.5863 - val_accuracy: 0.1047\n",
            "Epoch 6/30\n",
            "35000/35000 [==============================] - 20s 561us/step - loss: 1.0539 - accuracy: 0.6601 - val_loss: 2.5719 - val_accuracy: 0.2160\n",
            "Epoch 7/30\n",
            "35000/35000 [==============================] - 20s 562us/step - loss: 1.0184 - accuracy: 0.6738 - val_loss: 1.9736 - val_accuracy: 0.3455\n",
            "Epoch 8/30\n",
            "35000/35000 [==============================] - 20s 560us/step - loss: 0.9879 - accuracy: 0.6824 - val_loss: 2.0510 - val_accuracy: 0.3483\n",
            "Epoch 9/30\n",
            "35000/35000 [==============================] - 20s 560us/step - loss: 0.9561 - accuracy: 0.6932 - val_loss: 1.3827 - val_accuracy: 0.4923\n",
            "Epoch 10/30\n",
            "35000/35000 [==============================] - 20s 561us/step - loss: 0.9303 - accuracy: 0.6999 - val_loss: 1.2076 - val_accuracy: 0.6031\n",
            "Epoch 11/30\n",
            "35000/35000 [==============================] - 20s 561us/step - loss: 0.9115 - accuracy: 0.7063 - val_loss: 1.1857 - val_accuracy: 0.6020\n",
            "Epoch 12/30\n",
            "35000/35000 [==============================] - 20s 561us/step - loss: 0.8977 - accuracy: 0.7126 - val_loss: 1.1979 - val_accuracy: 0.5911\n",
            "Epoch 13/30\n",
            "35000/35000 [==============================] - 20s 563us/step - loss: 0.8757 - accuracy: 0.7217 - val_loss: 1.2071 - val_accuracy: 0.5973\n",
            "10000/10000 [==============================] - 3s 262us/step\n",
            "test_loss= 1.2027365665435792\n",
            "test_acc= 0.6047999858856201\n"
          ],
          "name": "stdout"
        },
        {
          "output_type": "display_data",
          "data": {
            "image/png": "[encoded data removed]",
            "text/plain": [
              "<Figure size 432x288 with 1 Axes>"
            ]
          },
          "metadata": {
            "tags": [],
            "needs_background": "light"
          }
        },
        {
          "output_type": "display_data",
          "data": {
            "image/png": "[encoded data removed]",
            "text/plain": [
              "<Figure size 432x288 with 1 Axes>"
            ]
          },
          "metadata": {
            "tags": [],
            "needs_background": "light"
          }
        }
      ]
    },
    {
      "cell_type": "code",
      "metadata": {
        "id": "3myXG9tMesIx",
        "colab_type": "code",
        "colab": {}
      },
      "source": [
        "#labels = [(False, 0.75), (False, 1.0), (False, 1.25), (True, 0.75), (True, 1.0), (True, 1.25)]\n",
        "#labels = [\"adagrad\", \"sgd\", \"rmsprop\", \"adam\"]\n",
        "#L2_exp = [0.01, 0.001, 0.0001]\n",
        "#drop = [0.125, 0.25, 0.5]\n",
        "# batch = [64, 256, 512]\n",
        "# plt.figure(figsize=(15,10))\n",
        "# for i in range(3):\n",
        "#     plt.plot(val_accuracy_score[i], \"-\", label=batch[i])\n",
        "#     plt.plot(accuracy_score[i], \"--\", label=batch[i])\n",
        "# plt.legend()\n",
        "# plt.title(\"Accuracy\")\n",
        "# plt.show()"
      ],
      "execution_count": 7,
      "outputs": []
    },
    {
      "cell_type": "code",
      "metadata": {
        "id": "Rb9gqggHtDvy",
        "colab_type": "code",
        "colab": {}
      },
      "source": [
        "# momentum >= 1, 會造成整體accuracy, val_accuracy在震盪後都大幅降低\n",
        "# nesterov 正負不影響結果"
      ],
      "execution_count": 8,
      "outputs": []
    },
    {
      "cell_type": "code",
      "metadata": {
        "id": "kMFO_blV78pA",
        "colab_type": "code",
        "colab": {}
      },
      "source": [
        "#Adam的表現在預設的參數之下表現最好"
      ],
      "execution_count": 9,
      "outputs": []
    },
    {
      "cell_type": "code",
      "metadata": {
        "id": "RICiJj6qBhtO",
        "colab_type": "code",
        "colab": {}
      },
      "source": [
        "#L2值越大，會更不容易overfitting，約L2 = 0.001較好"
      ],
      "execution_count": 10,
      "outputs": []
    },
    {
      "cell_type": "code",
      "metadata": {
        "id": "qdQgM5uXOpB2",
        "colab_type": "code",
        "colab": {}
      },
      "source": [
        "#Dropout rate 在0.125時，有點overfiting，在0.25的時候train set 與val set的accuracy看起來很不錯，在0.5的時候有underfitting"
      ],
      "execution_count": 11,
      "outputs": []
    },
    {
      "cell_type": "code",
      "metadata": {
        "id": "8MgywFP9jGFE",
        "colab_type": "code",
        "colab": {}
      },
      "source": [
        "#batch size越小，收斂速度可能會越快64>256>512，但最後accuracy差異不大"
      ],
      "execution_count": 12,
      "outputs": []
    }
  ]
}