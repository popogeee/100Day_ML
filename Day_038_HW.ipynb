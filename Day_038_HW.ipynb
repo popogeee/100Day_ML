{
 "cells": [
  {
   "cell_type": "markdown",
   "metadata": {},
   "source": [
    "## [作業重點]\n",
    "使用 Sklearn 中的線性迴歸模型，來訓練各種資料集，務必了解送進去模型訓練的**資料型態**為何，也請了解模型中各項參數的意義"
   ]
  },
  {
   "cell_type": "markdown",
   "metadata": {},
   "source": [
    "## 作業\n",
    "試著使用 sklearn datasets 的其他資料集 (wine, boston, ...)，來訓練自己的線性迴歸模型。"
   ]
  },
  {
   "cell_type": "markdown",
   "metadata": {},
   "source": [
    "### HINT: 注意 label 的型態，確定資料集的目標是分類還是回歸，在使用正確的模型訓練！"
   ]
  },
  {
   "cell_type": "code",
   "execution_count": 116,
   "metadata": {},
   "outputs": [],
   "source": [
    "import numpy as np\n",
    "import matplotlib.pyplot as plt\n",
    "from sklearn import datasets, linear_model\n",
    "from sklearn.model_selection import train_test_split\n",
    "from sklearn.metrics import mean_squared_error, r2_score, accuracy_score"
   ]
  },
  {
   "cell_type": "code",
   "execution_count": 117,
   "metadata": {},
   "outputs": [],
   "source": [
    "boston = datasets.load_boston()"
   ]
  },
  {
   "cell_type": "code",
   "execution_count": 118,
   "metadata": {},
   "outputs": [],
   "source": [
    "#The data matrix.\n",
    "#boston.data"
   ]
  },
  {
   "cell_type": "code",
   "execution_count": 119,
   "metadata": {},
   "outputs": [],
   "source": [
    "#The regression target.\n",
    "#boston.target"
   ]
  },
  {
   "cell_type": "code",
   "execution_count": 120,
   "metadata": {},
   "outputs": [
    {
     "data": {
      "text/plain": [
       "'/opt/anaconda3/lib/python3.7/site-packages/sklearn/datasets/data/boston_house_prices.csv'"
      ]
     },
     "execution_count": 120,
     "metadata": {},
     "output_type": "execute_result"
    }
   ],
   "source": [
    "#The physical location of boston csv dataset.\n",
    "boston.filename"
   ]
  },
  {
   "cell_type": "code",
   "execution_count": 121,
   "metadata": {},
   "outputs": [],
   "source": [
    "#The full description of the dataset.\n",
    "#boston.DESCR.split(\"\\n\")"
   ]
  },
  {
   "cell_type": "code",
   "execution_count": 122,
   "metadata": {},
   "outputs": [
    {
     "data": {
      "text/plain": [
       "array(['CRIM', 'ZN', 'INDUS', 'CHAS', 'NOX', 'RM', 'AGE', 'DIS', 'RAD',\n",
       "       'TAX', 'PTRATIO', 'B', 'LSTAT'], dtype='<U7')"
      ]
     },
     "execution_count": 122,
     "metadata": {},
     "output_type": "execute_result"
    }
   ],
   "source": [
    "#The names of features\n",
    "boston.feature_names"
   ]
  },
  {
   "cell_type": "code",
   "execution_count": 123,
   "metadata": {},
   "outputs": [],
   "source": [
    "from sklearn.linear_model import LinearRegression\n",
    "from sklearn.linear_model import LogisticRegression"
   ]
  },
  {
   "cell_type": "code",
   "execution_count": 124,
   "metadata": {},
   "outputs": [],
   "source": [
    "from sklearn.model_selection import cross_val_score\n",
    "from sklearn.model_selection import cross_val_predict"
   ]
  },
  {
   "cell_type": "code",
   "execution_count": 125,
   "metadata": {},
   "outputs": [],
   "source": [
    "from sklearn.metrics import roc_auc_score"
   ]
  },
  {
   "cell_type": "code",
   "execution_count": 126,
   "metadata": {},
   "outputs": [
    {
     "data": {
      "text/plain": [
       "array([20.2700423 , 19.60059751, 11.49943459, 30.66667623, 25.03169667,\n",
       "       17.9256744 , 22.46956499, 25.95791054, 17.10531701, 26.92296881,\n",
       "       31.64155172, 14.10952492, 24.12486513, 41.47476684, 14.96857385,\n",
       "       21.05900705, 13.68616243, 25.47703107, 19.91943699, 21.4135124 ,\n",
       "       17.58500302, 31.45429299, 17.50318839, 26.84906714,  6.49555343,\n",
       "        6.36364807, 26.02139934, 16.45510607, 32.99971812, 14.41264627,\n",
       "       26.7645562 , 27.84932061, -4.62348945, 23.79511964, 19.24398044,\n",
       "       20.79917707, 25.08558256, 20.76607539, 23.37152939, 13.75414132,\n",
       "       26.36178011, 22.22068195,  9.07299778, 34.61191597, 26.07346615,\n",
       "       19.26817914, 20.05687234, 14.26640582, 24.83280083, 31.18662734,\n",
       "       32.51273061, 27.0168088 , 20.03437064, 12.07877319, 16.44404308,\n",
       "       18.39020679, 28.43599334, 14.26734186, 10.31524035, 27.67305271,\n",
       "       25.5139762 , 22.3427723 , 27.54248215, 44.04860466, 36.84777777,\n",
       "       25.67070904, 23.46374018,  7.35015488, 13.32424348, 18.02025471,\n",
       "       25.72401033, 21.9404863 , 31.04161637, 17.60861888, 22.81022514,\n",
       "       20.975435  , 21.98077255, 24.81410819, 25.14388684, 33.53595307,\n",
       "       22.47092295, 12.83216481, 33.78794863, 37.38645444, 34.80654035,\n",
       "       12.71518609, 20.16823593, 20.61886349, 30.80831727, 18.91263228,\n",
       "       18.51905152, 18.45876151, 21.95139308, 17.098336  , 20.26980141,\n",
       "       21.4285806 , 14.81527023, 43.42999333, 17.46187079, 15.83974474,\n",
       "       11.32713765, 27.12591351, 24.63212857, 30.50865089, 20.79916577,\n",
       "       19.24837586, 24.25597023, 20.90487892, 39.80753558, 13.64991632,\n",
       "       20.83345654, 34.99355735, 21.4310864 , 17.64146598, 33.5271369 ,\n",
       "       17.3461169 , 26.19747998, 20.78114332, 17.55637099, 18.29009942,\n",
       "       11.04979465, 19.16397068, 27.63712348, 32.49788321, 24.9067347 ,\n",
       "       15.86108649, 18.52352814, 23.42305526, 21.47098106, 19.28601024,\n",
       "       20.345302  , 25.29682032, 34.37064154, 30.71869084, 25.53903076,\n",
       "       19.83414629, 23.60761758, 14.04026022, 18.73712432, 31.58385076,\n",
       "       34.57671205, 26.3749347 , 24.11493613, 24.98916686,  7.46611543,\n",
       "       24.80060835, 27.43270313, 15.36138814, 24.87795753,  5.66961731,\n",
       "       16.31300313, 23.59501858])"
      ]
     },
     "execution_count": 126,
     "metadata": {},
     "output_type": "execute_result"
    }
   ],
   "source": [
    "X_train, X_test, y_train, y_test = train_test_split(boston.data, boston.target, test_size=0.3, random_state=2020)\n",
    "model = LinearRegression()\n",
    "model.fit(X_train, y_train)\n",
    "model.predict(X_test)"
   ]
  },
  {
   "cell_type": "code",
   "execution_count": 127,
   "metadata": {
    "scrolled": true
   },
   "outputs": [
    {
     "data": {
      "image/png": "[encoded data removed]",
      "text/plain": [
       "<Figure size 432x288 with 1 Axes>"
      ]
     },
     "metadata": {
      "needs_background": "light"
     },
     "output_type": "display_data"
    }
   ],
   "source": [
    "#X軸為預測結果，Y軸為回歸目標\n",
    "plt.scatter(model.predict(X_test), y_test, color=\"blue\", marker=\".\")\n",
    "#plt.plot(X_train, y_train)\n",
    "plt.show()"
   ]
  },
  {
   "cell_type": "code",
   "execution_count": 130,
   "metadata": {
    "scrolled": true
   },
   "outputs": [
    {
     "data": {
      "text/plain": [
       "5.0"
      ]
     },
     "execution_count": 130,
     "metadata": {},
     "output_type": "execute_result"
    }
   ],
   "source": [
    "y_test.min()"
   ]
  },
  {
   "cell_type": "code",
   "execution_count": 131,
   "metadata": {},
   "outputs": [
    {
     "data": {
      "text/plain": [
       "50.0"
      ]
     },
     "execution_count": 131,
     "metadata": {},
     "output_type": "execute_result"
    }
   ],
   "source": [
    "y_test.max()"
   ]
  },
  {
   "cell_type": "code",
   "execution_count": 129,
   "metadata": {},
   "outputs": [
    {
     "name": "stdout",
     "output_type": "stream",
     "text": [
      "23.44040354365434\n",
      "0.6993476299341775\n"
     ]
    }
   ],
   "source": [
    "print(mean_squared_error(y_test, model.predict(X_test))) #越近0越好\n",
    "print(r2_score(y_test, model.predict(X_test))) #越近1越好，預測值與實際值的相關係數correlation\n",
    "#print(accuracy_score(y_test, model.predict(X_test)))      "
   ]
  },
  {
   "cell_type": "code",
   "execution_count": null,
   "metadata": {},
   "outputs": [],
   "source": []
  }
 ],
 "metadata": {
  "kernelspec": {
   "display_name": "Python 3",
   "language": "python",
   "name": "python3"
  },
  "language_info": {
   "codemirror_mode": {
    "name": "ipython",
    "version": 3
   },
   "file_extension": ".py",
   "mimetype": "text/x-python",
   "name": "python",
   "nbconvert_exporter": "python",
   "pygments_lexer": "ipython3",
   "version": "3.7.6"
  }
 },
 "nbformat": 4,
 "nbformat_minor": 2
}
